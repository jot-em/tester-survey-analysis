{
 "cells": [
  {
   "cell_type": "markdown",
   "metadata": {},
   "source": [
    "    "
   ]
  },
  {
   "cell_type": "code",
   "execution_count": 1,
   "metadata": {
    "scrolled": false
   },
   "outputs": [],
   "source": [
    "# colnames(df)"
   ]
  },
  {
   "cell_type": "markdown",
   "metadata": {},
   "source": [
    "## Przygotowanie danych\n"
   ]
  },
  {
   "cell_type": "markdown",
   "metadata": {},
   "source": [
    "### Wczytanie danych csv "
   ]
  },
  {
   "cell_type": "code",
   "execution_count": 2,
   "metadata": {},
   "outputs": [
    {
     "name": "stderr",
     "output_type": "stream",
     "text": [
      "── \u001b[1mAttaching packages\u001b[22m ─────────────────────────────────────── tidyverse 1.2.1 ──\n",
      "\u001b[32m✔\u001b[39m \u001b[34mggplot2\u001b[39m 3.1.0       \u001b[32m✔\u001b[39m \u001b[34mpurrr  \u001b[39m 0.3.1  \n",
      "\u001b[32m✔\u001b[39m \u001b[34mtibble \u001b[39m 2.0.1       \u001b[32m✔\u001b[39m \u001b[34mdplyr  \u001b[39m 0.8.0.\u001b[31m1\u001b[39m\n",
      "\u001b[32m✔\u001b[39m \u001b[34mtidyr  \u001b[39m 0.8.3       \u001b[32m✔\u001b[39m \u001b[34mstringr\u001b[39m 1.4.0  \n",
      "\u001b[32m✔\u001b[39m \u001b[34mreadr  \u001b[39m 1.3.1       \u001b[32m✔\u001b[39m \u001b[34mforcats\u001b[39m 0.4.0  \n",
      "── \u001b[1mConflicts\u001b[22m ────────────────────────────────────────── tidyverse_conflicts() ──\n",
      "\u001b[31m✖\u001b[39m \u001b[34mdplyr\u001b[39m::\u001b[32mfilter()\u001b[39m masks \u001b[34mstats\u001b[39m::filter()\n",
      "\u001b[31m✖\u001b[39m \u001b[34mdplyr\u001b[39m::\u001b[32mlag()\u001b[39m    masks \u001b[34mstats\u001b[39m::lag()\n"
     ]
    }
   ],
   "source": [
    "library(tidyverse)"
   ]
  },
  {
   "cell_type": "code",
   "execution_count": 3,
   "metadata": {},
   "outputs": [],
   "source": [
    "txt <- read_file('spec-wyniki.csv')\n",
    "txt <- gsub(\"\\\"\", \"\", gsub(\"\\\",\\\"\", \"|\", txt))\n",
    "\n",
    "\n",
    "df <- read_delim(txt, delim=\"|\", skip=1,\n",
    "                 col_names=c(\"Data\",\n",
    "                             \"Metodyka\",\n",
    "                             \"Dl_projektu\",\n",
    "                             \"Udzial_testerow\",\n",
    "                             \"Skojarzenia_spec\",\n",
    "                             \"Spisanie_wymagan\",\n",
    "                             \"Os_odpowiedzialna\",\n",
    "                             \"L_stron\",\n",
    "                             \"Waznosc_spec\",\n",
    "                             \"Cechy_spec\",\n",
    "                             \"Wady_spec\",\n",
    "                             \"Uwagi\"\n",
    "                             ))\n",
    "#                             ),\n",
    "#                  col_types=cols(\n",
    "#                      Data=col_datetime(format=\"%Y/%m/%d %I:%M:%S %p %Z\"),\n",
    "#                      Dl_projektu=col_factor(levels=c('do pół roku', '0,5 - 1 roku', '1-3 lata', 'powyżej 3 lat'))))"
   ]
  },
  {
   "cell_type": "markdown",
   "metadata": {},
   "source": [
    "### Normalizacja typu i wartości zmiennych"
   ]
  },
  {
   "cell_type": "markdown",
   "metadata": {},
   "source": [
    "#### Data"
   ]
  },
  {
   "cell_type": "code",
   "execution_count": 4,
   "metadata": {},
   "outputs": [],
   "source": [
    "df$Data <- parse_datetime(df$Data, format=\"%Y/%m/%d %I:%M:%S %p %Z\")"
   ]
  },
  {
   "cell_type": "markdown",
   "metadata": {},
   "source": [
    "#### Metodyka"
   ]
  },
  {
   "cell_type": "code",
   "execution_count": 5,
   "metadata": {},
   "outputs": [
    {
     "data": {
      "text/html": [
       "'factor'"
      ],
      "text/latex": [
       "'factor'"
      ],
      "text/markdown": [
       "'factor'"
      ],
      "text/plain": [
       "[1] \"factor\""
      ]
     },
     "metadata": {},
     "output_type": "display_data"
    },
    {
     "data": {
      "text/html": [
       "<ol class=list-inline>\n",
       "\t<li>Iteracyjne i sekwencyjne</li>\n",
       "\t<li>Iteracyjne</li>\n",
       "\t<li>Iteracyjne</li>\n",
       "\t<li>Iteracyjne i sekwencyjne</li>\n",
       "\t<li>Iteracyjne i sekwencyjne</li>\n",
       "\t<li>Iteracyjne</li>\n",
       "\t<li>Iteracyjne</li>\n",
       "\t<li>Sekwencyjne</li>\n",
       "\t<li>Iteracyjne i sekwencyjne</li>\n",
       "\t<li>Iteracyjne</li>\n",
       "\t<li>Iteracyjne</li>\n",
       "\t<li>Iteracyjne</li>\n",
       "\t<li>Iteracyjne</li>\n",
       "\t<li>Iteracyjne</li>\n",
       "\t<li>Iteracyjne</li>\n",
       "\t<li>Iteracyjne</li>\n",
       "\t<li>Iteracyjne</li>\n",
       "\t<li>Iteracyjne</li>\n",
       "\t<li>Iteracyjne</li>\n",
       "\t<li>Iteracyjne</li>\n",
       "\t<li>Iteracyjne</li>\n",
       "\t<li>Sekwencyjne</li>\n",
       "\t<li>Iteracyjne i sekwencyjne</li>\n",
       "\t<li>Sekwencyjne</li>\n",
       "\t<li>Iteracyjne</li>\n",
       "\t<li>Inne</li>\n",
       "\t<li>Iteracyjne i sekwencyjne</li>\n",
       "\t<li>Sekwencyjne</li>\n",
       "\t<li>Iteracyjne</li>\n",
       "\t<li>Iteracyjne</li>\n",
       "\t<li>Iteracyjne</li>\n",
       "\t<li>Iteracyjne</li>\n",
       "\t<li>Iteracyjne</li>\n",
       "\t<li>Iteracyjne</li>\n",
       "\t<li>Iteracyjne</li>\n",
       "\t<li>Iteracyjne</li>\n",
       "\t<li>Iteracyjne i sekwencyjne</li>\n",
       "\t<li>Iteracyjne</li>\n",
       "\t<li>Iteracyjne</li>\n",
       "\t<li>Sekwencyjne</li>\n",
       "\t<li>Iteracyjne</li>\n",
       "\t<li>Iteracyjne</li>\n",
       "\t<li>Iteracyjne</li>\n",
       "\t<li>Iteracyjne</li>\n",
       "\t<li>Iteracyjne</li>\n",
       "\t<li>Iteracyjne i sekwencyjne</li>\n",
       "\t<li>Iteracyjne</li>\n",
       "\t<li>Iteracyjne</li>\n",
       "\t<li>Iteracyjne</li>\n",
       "\t<li>Iteracyjne i sekwencyjne</li>\n",
       "\t<li>Iteracyjne</li>\n",
       "\t<li>Iteracyjne</li>\n",
       "\t<li>Sekwencyjne</li>\n",
       "\t<li>Iteracyjne</li>\n",
       "\t<li>Iteracyjne i sekwencyjne</li>\n",
       "\t<li>Iteracyjne</li>\n",
       "\t<li>Iteracyjne i sekwencyjne</li>\n",
       "\t<li>Iteracyjne</li>\n",
       "\t<li>Sekwencyjne</li>\n",
       "\t<li>Iteracyjne</li>\n",
       "\t<li>Iteracyjne</li>\n",
       "\t<li>Iteracyjne</li>\n",
       "\t<li>Iteracyjne</li>\n",
       "\t<li>Iteracyjne i sekwencyjne</li>\n",
       "\t<li>Iteracyjne</li>\n",
       "\t<li>Iteracyjne i sekwencyjne</li>\n",
       "\t<li>Iteracyjne</li>\n",
       "\t<li>Iteracyjne</li>\n",
       "\t<li>Iteracyjne</li>\n",
       "\t<li>Iteracyjne</li>\n",
       "\t<li>Iteracyjne</li>\n",
       "\t<li>Iteracyjne</li>\n",
       "\t<li>Inne</li>\n",
       "</ol>\n",
       "\n",
       "<details>\n",
       "\t<summary style=display:list-item;cursor:pointer>\n",
       "\t\t<strong>Levels</strong>:\n",
       "\t</summary>\n",
       "\t<ol class=list-inline>\n",
       "\t\t<li>'Iteracyjne i sekwencyjne'</li>\n",
       "\t\t<li>'Iteracyjne'</li>\n",
       "\t\t<li>'Sekwencyjne'</li>\n",
       "\t\t<li>'Inne'</li>\n",
       "\t</ol>\n",
       "</details>"
      ],
      "text/latex": [
       "\\begin{enumerate*}\n",
       "\\item Iteracyjne i sekwencyjne\n",
       "\\item Iteracyjne\n",
       "\\item Iteracyjne\n",
       "\\item Iteracyjne i sekwencyjne\n",
       "\\item Iteracyjne i sekwencyjne\n",
       "\\item Iteracyjne\n",
       "\\item Iteracyjne\n",
       "\\item Sekwencyjne\n",
       "\\item Iteracyjne i sekwencyjne\n",
       "\\item Iteracyjne\n",
       "\\item Iteracyjne\n",
       "\\item Iteracyjne\n",
       "\\item Iteracyjne\n",
       "\\item Iteracyjne\n",
       "\\item Iteracyjne\n",
       "\\item Iteracyjne\n",
       "\\item Iteracyjne\n",
       "\\item Iteracyjne\n",
       "\\item Iteracyjne\n",
       "\\item Iteracyjne\n",
       "\\item Iteracyjne\n",
       "\\item Sekwencyjne\n",
       "\\item Iteracyjne i sekwencyjne\n",
       "\\item Sekwencyjne\n",
       "\\item Iteracyjne\n",
       "\\item Inne\n",
       "\\item Iteracyjne i sekwencyjne\n",
       "\\item Sekwencyjne\n",
       "\\item Iteracyjne\n",
       "\\item Iteracyjne\n",
       "\\item Iteracyjne\n",
       "\\item Iteracyjne\n",
       "\\item Iteracyjne\n",
       "\\item Iteracyjne\n",
       "\\item Iteracyjne\n",
       "\\item Iteracyjne\n",
       "\\item Iteracyjne i sekwencyjne\n",
       "\\item Iteracyjne\n",
       "\\item Iteracyjne\n",
       "\\item Sekwencyjne\n",
       "\\item Iteracyjne\n",
       "\\item Iteracyjne\n",
       "\\item Iteracyjne\n",
       "\\item Iteracyjne\n",
       "\\item Iteracyjne\n",
       "\\item Iteracyjne i sekwencyjne\n",
       "\\item Iteracyjne\n",
       "\\item Iteracyjne\n",
       "\\item Iteracyjne\n",
       "\\item Iteracyjne i sekwencyjne\n",
       "\\item Iteracyjne\n",
       "\\item Iteracyjne\n",
       "\\item Sekwencyjne\n",
       "\\item Iteracyjne\n",
       "\\item Iteracyjne i sekwencyjne\n",
       "\\item Iteracyjne\n",
       "\\item Iteracyjne i sekwencyjne\n",
       "\\item Iteracyjne\n",
       "\\item Sekwencyjne\n",
       "\\item Iteracyjne\n",
       "\\item Iteracyjne\n",
       "\\item Iteracyjne\n",
       "\\item Iteracyjne\n",
       "\\item Iteracyjne i sekwencyjne\n",
       "\\item Iteracyjne\n",
       "\\item Iteracyjne i sekwencyjne\n",
       "\\item Iteracyjne\n",
       "\\item Iteracyjne\n",
       "\\item Iteracyjne\n",
       "\\item Iteracyjne\n",
       "\\item Iteracyjne\n",
       "\\item Iteracyjne\n",
       "\\item Inne\n",
       "\\end{enumerate*}\n",
       "\n",
       "\\emph{Levels}: \\begin{enumerate*}\n",
       "\\item 'Iteracyjne i sekwencyjne'\n",
       "\\item 'Iteracyjne'\n",
       "\\item 'Sekwencyjne'\n",
       "\\item 'Inne'\n",
       "\\end{enumerate*}\n"
      ],
      "text/markdown": [
       "1. Iteracyjne i sekwencyjne\n",
       "2. Iteracyjne\n",
       "3. Iteracyjne\n",
       "4. Iteracyjne i sekwencyjne\n",
       "5. Iteracyjne i sekwencyjne\n",
       "6. Iteracyjne\n",
       "7. Iteracyjne\n",
       "8. Sekwencyjne\n",
       "9. Iteracyjne i sekwencyjne\n",
       "10. Iteracyjne\n",
       "11. Iteracyjne\n",
       "12. Iteracyjne\n",
       "13. Iteracyjne\n",
       "14. Iteracyjne\n",
       "15. Iteracyjne\n",
       "16. Iteracyjne\n",
       "17. Iteracyjne\n",
       "18. Iteracyjne\n",
       "19. Iteracyjne\n",
       "20. Iteracyjne\n",
       "21. Iteracyjne\n",
       "22. Sekwencyjne\n",
       "23. Iteracyjne i sekwencyjne\n",
       "24. Sekwencyjne\n",
       "25. Iteracyjne\n",
       "26. Inne\n",
       "27. Iteracyjne i sekwencyjne\n",
       "28. Sekwencyjne\n",
       "29. Iteracyjne\n",
       "30. Iteracyjne\n",
       "31. Iteracyjne\n",
       "32. Iteracyjne\n",
       "33. Iteracyjne\n",
       "34. Iteracyjne\n",
       "35. Iteracyjne\n",
       "36. Iteracyjne\n",
       "37. Iteracyjne i sekwencyjne\n",
       "38. Iteracyjne\n",
       "39. Iteracyjne\n",
       "40. Sekwencyjne\n",
       "41. Iteracyjne\n",
       "42. Iteracyjne\n",
       "43. Iteracyjne\n",
       "44. Iteracyjne\n",
       "45. Iteracyjne\n",
       "46. Iteracyjne i sekwencyjne\n",
       "47. Iteracyjne\n",
       "48. Iteracyjne\n",
       "49. Iteracyjne\n",
       "50. Iteracyjne i sekwencyjne\n",
       "51. Iteracyjne\n",
       "52. Iteracyjne\n",
       "53. Sekwencyjne\n",
       "54. Iteracyjne\n",
       "55. Iteracyjne i sekwencyjne\n",
       "56. Iteracyjne\n",
       "57. Iteracyjne i sekwencyjne\n",
       "58. Iteracyjne\n",
       "59. Sekwencyjne\n",
       "60. Iteracyjne\n",
       "61. Iteracyjne\n",
       "62. Iteracyjne\n",
       "63. Iteracyjne\n",
       "64. Iteracyjne i sekwencyjne\n",
       "65. Iteracyjne\n",
       "66. Iteracyjne i sekwencyjne\n",
       "67. Iteracyjne\n",
       "68. Iteracyjne\n",
       "69. Iteracyjne\n",
       "70. Iteracyjne\n",
       "71. Iteracyjne\n",
       "72. Iteracyjne\n",
       "73. Inne\n",
       "\n",
       "\n",
       "\n",
       "**Levels**: 1. 'Iteracyjne i sekwencyjne'\n",
       "2. 'Iteracyjne'\n",
       "3. 'Sekwencyjne'\n",
       "4. 'Inne'\n",
       "\n",
       "\n"
      ],
      "text/plain": [
       " [1] Iteracyjne i sekwencyjne Iteracyjne               Iteracyjne              \n",
       " [4] Iteracyjne i sekwencyjne Iteracyjne i sekwencyjne Iteracyjne              \n",
       " [7] Iteracyjne               Sekwencyjne              Iteracyjne i sekwencyjne\n",
       "[10] Iteracyjne               Iteracyjne               Iteracyjne              \n",
       "[13] Iteracyjne               Iteracyjne               Iteracyjne              \n",
       "[16] Iteracyjne               Iteracyjne               Iteracyjne              \n",
       "[19] Iteracyjne               Iteracyjne               Iteracyjne              \n",
       "[22] Sekwencyjne              Iteracyjne i sekwencyjne Sekwencyjne             \n",
       "[25] Iteracyjne               Inne                     Iteracyjne i sekwencyjne\n",
       "[28] Sekwencyjne              Iteracyjne               Iteracyjne              \n",
       "[31] Iteracyjne               Iteracyjne               Iteracyjne              \n",
       "[34] Iteracyjne               Iteracyjne               Iteracyjne              \n",
       "[37] Iteracyjne i sekwencyjne Iteracyjne               Iteracyjne              \n",
       "[40] Sekwencyjne              Iteracyjne               Iteracyjne              \n",
       "[43] Iteracyjne               Iteracyjne               Iteracyjne              \n",
       "[46] Iteracyjne i sekwencyjne Iteracyjne               Iteracyjne              \n",
       "[49] Iteracyjne               Iteracyjne i sekwencyjne Iteracyjne              \n",
       "[52] Iteracyjne               Sekwencyjne              Iteracyjne              \n",
       "[55] Iteracyjne i sekwencyjne Iteracyjne               Iteracyjne i sekwencyjne\n",
       "[58] Iteracyjne               Sekwencyjne              Iteracyjne              \n",
       "[61] Iteracyjne               Iteracyjne               Iteracyjne              \n",
       "[64] Iteracyjne i sekwencyjne Iteracyjne               Iteracyjne i sekwencyjne\n",
       "[67] Iteracyjne               Iteracyjne               Iteracyjne              \n",
       "[70] Iteracyjne               Iteracyjne               Iteracyjne              \n",
       "[73] Inne                    \n",
       "Levels: Iteracyjne i sekwencyjne Iteracyjne Sekwencyjne Inne"
      ]
     },
     "metadata": {},
     "output_type": "display_data"
    },
    {
     "data": {
      "text/html": [
       "<table>\n",
       "<thead><tr><th scope=col>Metodyka_norm</th><th scope=col>n</th></tr></thead>\n",
       "<tbody>\n",
       "\t<tr><td>Iteracyjne i sekwencyjne</td><td>13                      </td></tr>\n",
       "\t<tr><td>Iteracyjne              </td><td>51                      </td></tr>\n",
       "\t<tr><td>Sekwencyjne             </td><td> 7                      </td></tr>\n",
       "\t<tr><td>Inne                    </td><td> 2                      </td></tr>\n",
       "</tbody>\n",
       "</table>\n"
      ],
      "text/latex": [
       "\\begin{tabular}{r|ll}\n",
       " Metodyka\\_norm & n\\\\\n",
       "\\hline\n",
       "\t Iteracyjne i sekwencyjne & 13                      \\\\\n",
       "\t Iteracyjne               & 51                      \\\\\n",
       "\t Sekwencyjne              &  7                      \\\\\n",
       "\t Inne                     &  2                      \\\\\n",
       "\\end{tabular}\n"
      ],
      "text/markdown": [
       "\n",
       "| Metodyka_norm | n |\n",
       "|---|---|\n",
       "| Iteracyjne i sekwencyjne | 13                       |\n",
       "| Iteracyjne               | 51                       |\n",
       "| Sekwencyjne              |  7                       |\n",
       "| Inne                     |  2                       |\n",
       "\n"
      ],
      "text/plain": [
       "  Metodyka_norm            n \n",
       "1 Iteracyjne i sekwencyjne 13\n",
       "2 Iteracyjne               51\n",
       "3 Sekwencyjne               7\n",
       "4 Inne                      2"
      ]
     },
     "metadata": {},
     "output_type": "display_data"
    }
   ],
   "source": [
    "# count(df, Metodyka)\n",
    "\n",
    "df <- df %>%\n",
    "    mutate(Metodyka_norm = case_when(\n",
    "        Metodyka == \"agile’owej\" | Metodyka == \"scrum\" | Metodyka == \"kanban\" |\n",
    "            Metodyka == \"ni to agile ni to waterfall, ale bliżej mu do iteracyjnego podejścia\" | \n",
    "            grepl(\"scrum.*but\", df$Metodyka) ~ \"Iteracyjne\",\n",
    "        Metodyka == \"watefallowej\" | Metodyka == \"watefallowej;Waterfall, który udaje agile\" | \n",
    "            Metodyka == \"V\" ~ \"Sekwencyjne\",\n",
    "        grepl(\"agile’owej;watefallowej\", df$Metodyka) ~ \"Iteracyjne i sekwencyjne\",\n",
    "        TRUE ~ \"Inne\"\n",
    "    ))\n",
    "\n",
    "\n",
    "df$Metodyka_norm <- parse_factor(df$Metodyka_norm)\n",
    "\n",
    "# class(df$Metodyka_norm)\n",
    "# df$Metodyka_norm\n",
    "\n",
    "\n",
    "# count(df, Metodyka_norm)"
   ]
  },
  {
   "cell_type": "markdown",
   "metadata": {},
   "source": [
    "#### Długość projektu"
   ]
  },
  {
   "cell_type": "code",
   "execution_count": 6,
   "metadata": {},
   "outputs": [],
   "source": [
    "# df <- df %>%\n",
    "#     mutate(Dl_projektu_num = case_when(\n",
    "#         Dl_projektu == 'do pół roku'  ~ 1,\n",
    "#         Dl_projektu == '0,5 - 1 roku' ~ 2,\n",
    "#         Dl_projektu == '1-3 lata' ~ 3,\n",
    "#         TRUE ~ 4\n",
    "#     ))\n",
    "\n",
    "\n",
    "#alternatywnie tak można zmienić typ danych\n",
    "project_length_levels <- c('do pół roku', '0,5 - 1 roku', '1-3 lata', 'powyżej 3 lat')\n",
    "df$Dl_projektu <- parse_factor(df$Dl_projektu, levels = project_length_levels)"
   ]
  },
  {
   "cell_type": "markdown",
   "metadata": {},
   "source": [
    "#### Udział testerów"
   ]
  },
  {
   "cell_type": "code",
   "execution_count": 7,
   "metadata": {},
   "outputs": [
    {
     "data": {
      "text/html": [
       "<table>\n",
       "<thead><tr><th scope=col>Udzial_testerow_norm</th><th scope=col>n</th></tr></thead>\n",
       "<tbody>\n",
       "\t<tr><td>pełny                </td><td> 9                   </td></tr>\n",
       "\t<tr><td>recenzja             </td><td>24                   </td></tr>\n",
       "\t<tr><td>wgląd przed testami  </td><td>12                   </td></tr>\n",
       "\t<tr><td>wgląd w czasie testów</td><td>14                   </td></tr>\n",
       "\t<tr><td>brak dostępu         </td><td> 3                   </td></tr>\n",
       "\t<tr><td>brak specyfikacji    </td><td> 8                   </td></tr>\n",
       "\t<tr><td>inne                 </td><td> 3                   </td></tr>\n",
       "</tbody>\n",
       "</table>\n"
      ],
      "text/latex": [
       "\\begin{tabular}{r|ll}\n",
       " Udzial\\_testerow\\_norm & n\\\\\n",
       "\\hline\n",
       "\t pełny                 &  9                   \\\\\n",
       "\t recenzja              & 24                   \\\\\n",
       "\t wgląd przed testami   & 12                   \\\\\n",
       "\t wgląd w czasie testów & 14                   \\\\\n",
       "\t brak dostępu          &  3                   \\\\\n",
       "\t brak specyfikacji     &  8                   \\\\\n",
       "\t inne                  &  3                   \\\\\n",
       "\\end{tabular}\n"
      ],
      "text/markdown": [
       "\n",
       "| Udzial_testerow_norm | n |\n",
       "|---|---|\n",
       "| pełny                 |  9                    |\n",
       "| recenzja              | 24                    |\n",
       "| wgląd przed testami   | 12                    |\n",
       "| wgląd w czasie testów | 14                    |\n",
       "| brak dostępu          |  3                    |\n",
       "| brak specyfikacji     |  8                    |\n",
       "| inne                  |  3                    |\n",
       "\n"
      ],
      "text/plain": [
       "  Udzial_testerow_norm  n \n",
       "1 pełny                  9\n",
       "2 recenzja              24\n",
       "3 wgląd przed testami   12\n",
       "4 wgląd w czasie testów 14\n",
       "5 brak dostępu           3\n",
       "6 brak specyfikacji      8\n",
       "7 inne                   3"
      ]
     },
     "metadata": {},
     "output_type": "display_data"
    }
   ],
   "source": [
    "# df$Udzial_testerow <- gsub(\"tak, brali udział w definiowaniu wymagań\", \n",
    "#                              \"pełny\", \n",
    "#                              df$Udzial_testerow)\n",
    "# df$Udzial_testerow <- gsub(\"tak, recenzowali gotową specyfikację i mogli wnosić swoje uwagi\", \n",
    "#                              \"recenzja\", \n",
    "#                              df$Udzial_testerow)\n",
    "# df$Udzial_testerow <- gsub(\"tak, mieli wgląd do specyfikacji już na samym początku i na jej podstawie mogli stworzyć strategię i plan testów, ale nie mieli wpływu na zmianę samego dokumentu\", \n",
    "#                              \"wgląd przed testami\", \n",
    "#                              df$Udzial_testerow)\n",
    "# df$Udzial_testerow <- gsub(\"nie, mieli dostęp do specyfikacji, gdy oprogramowanie było w trakcie implementacji, albo nawet po jej zakończeniu\", \n",
    "#                              \"wgląd w czasie testów\", \n",
    "#                              df$Udzial_testerow)\n",
    "# df$Udzial_testerow <- gsub(\"nie i nie mieli dostępu do specyfikacji\", \n",
    "#                              \"brak dostępu\", \n",
    "#                              df$Udzial_testerow)\n",
    "# df$Udzial_testerow <- gsub(\"nie, bo nie było specyfikacji\", \n",
    "#                              \"brak specyfikacji\", \n",
    "#                              df$Udzial_testerow)\n",
    "\n",
    "df <- df %>% mutate(Udzial_testerow_norm = case_when(\n",
    "    Udzial_testerow == \"tak, brali udział w definiowaniu wymagań\"\n",
    "        ~ \"pełny\",\n",
    "    Udzial_testerow == \"tak, recenzowali gotową specyfikację i mogli wnosić swoje uwagi\" \n",
    "        ~ \"recenzja\",\n",
    "    Udzial_testerow == \"tak, mieli wgląd do specyfikacji już na samym początku i na jej podstawie mogli stworzyć strategię i plan testów, ale nie mieli wpływu na zmianę samego dokumentu\" \n",
    "        ~ \"wgląd przed testami\",\n",
    "    Udzial_testerow == \"nie, mieli dostęp do specyfikacji, gdy oprogramowanie było w trakcie implementacji, albo nawet po jej zakończeniu\" \n",
    "        ~ \"wgląd w czasie testów\",\n",
    "    Udzial_testerow == \"nie i nie mieli dostępu do specyfikacji\" \n",
    "        ~ \"brak dostępu\", \n",
    "    Udzial_testerow == \"nie, bo nie było specyfikacji\" \n",
    "        ~ \"brak specyfikacji\",\n",
    "    Udzial_testerow == \"Coś między dwa a trzy - nie tyle do recenzji, ile był dostęp dość szybko i uwagi, które się nasunęły w czasie projektowania strategii i planów były brane pod uwagę.\"\n",
    "        ~ \"recenzja\",\n",
    "    Udzial_testerow == \"gdy się zainteresowali, to mogli na cośwplynąć\" \n",
    "        ~ \"recenzja\",\n",
    "    Udzial_testerow == \"specyfikacja częściowo dostępna na początku, zmienna i głównie rozszerzana w trakcie trwania projektu\" \n",
    "        ~ \"wgląd przed testami\",\n",
    "    Udzial_testerow == \"wgląd od początku, ale bez wpływu na zmiany; natomiast klient zmiany wprowadzał cały czas, także już po oddaniu projektu!! \" \n",
    "        ~ \"wgląd przed testami\",\n",
    "    Udzial_testerow == \"nie brali udziału w fazie projektowania wymagań, ale mieli pełny dostęp do specyfikacji w czasie testów\"\n",
    "        ~ \"wgląd w czasie testów\",\n",
    "    TRUE ~ \"inne\"\n",
    "    ))\n",
    "\n",
    "testers_contribution_levels <- c(\"pełny\", \"recenzja\", \"wgląd przed testami\", \"wgląd w czasie testów\", \"brak dostępu\", \"brak specyfikacji\", \"inne\")\n",
    "df$Udzial_testerow_norm <- parse_factor(df$Udzial_testerow_norm, levels = testers_contribution_levels)\n",
    "\n",
    "count(df, Udzial_testerow_norm)\n",
    "# class(df$Udzial_testerow_norm)"
   ]
  },
  {
   "cell_type": "markdown",
   "metadata": {},
   "source": [
    "#### Skojarzenia"
   ]
  },
  {
   "cell_type": "code",
   "execution_count": 8,
   "metadata": {},
   "outputs": [],
   "source": [
    "# TODO"
   ]
  },
  {
   "cell_type": "markdown",
   "metadata": {},
   "source": [
    "#### Spisywanie wymagań"
   ]
  },
  {
   "cell_type": "code",
   "execution_count": 9,
   "metadata": {},
   "outputs": [
    {
     "data": {
      "text/html": [
       "<table>\n",
       "<thead><tr><th scope=col>Spisanie_wymagan_norm</th><th scope=col>n</th></tr></thead>\n",
       "<tbody>\n",
       "\t<tr><td>na początku                   </td><td>10                            </td></tr>\n",
       "\t<tr><td>w trakcie                     </td><td>21                            </td></tr>\n",
       "\t<tr><td>na początku, ale się zmieniały</td><td>26                            </td></tr>\n",
       "\t<tr><td>częściowo                     </td><td>10                            </td></tr>\n",
       "\t<tr><td>niespisane                    </td><td> 3                            </td></tr>\n",
       "\t<tr><td>inne                          </td><td> 3                            </td></tr>\n",
       "</tbody>\n",
       "</table>\n"
      ],
      "text/latex": [
       "\\begin{tabular}{r|ll}\n",
       " Spisanie\\_wymagan\\_norm & n\\\\\n",
       "\\hline\n",
       "\t na początku                    & 10                            \\\\\n",
       "\t w trakcie                      & 21                            \\\\\n",
       "\t na początku, ale się zmieniały & 26                            \\\\\n",
       "\t częściowo                      & 10                            \\\\\n",
       "\t niespisane                     &  3                            \\\\\n",
       "\t inne                           &  3                            \\\\\n",
       "\\end{tabular}\n"
      ],
      "text/markdown": [
       "\n",
       "| Spisanie_wymagan_norm | n |\n",
       "|---|---|\n",
       "| na początku                    | 10                             |\n",
       "| w trakcie                      | 21                             |\n",
       "| na początku, ale się zmieniały | 26                             |\n",
       "| częściowo                      | 10                             |\n",
       "| niespisane                     |  3                             |\n",
       "| inne                           |  3                             |\n",
       "\n"
      ],
      "text/plain": [
       "  Spisanie_wymagan_norm          n \n",
       "1 na początku                    10\n",
       "2 w trakcie                      21\n",
       "3 na początku, ale się zmieniały 26\n",
       "4 częściowo                      10\n",
       "5 niespisane                      3\n",
       "6 inne                            3"
      ]
     },
     "metadata": {},
     "output_type": "display_data"
    }
   ],
   "source": [
    "# df$Spisanie_wymagan <- gsub(\"tak, na samym początku\", \n",
    "#                             \"na początku\", df$Spisanie_wymagan)\n",
    "# df$Spisanie_wymagan <- gsub(\"tak, stopniowo w trakcie projektu \\\\(np. w postaci user stories\\\\)\", \n",
    "#                             \"w trakcie\", df$Spisanie_wymagan)\n",
    "# df$Spisanie_wymagan <- gsub(\"tak, na samym początku, ale później często się zmieniały\", \n",
    "#                             \"na początku, ale się zmieniały\", df$Spisanie_wymagan)\n",
    "# df$Spisanie_wymagan <- gsub(\"częściowo były spisywane, ale większość była przekazywana ustnie\", \n",
    "#                             \"częściowo\", df$Spisanie_wymagan)\n",
    "# df$Spisanie_wymagan <- gsub(\"nie, były tylko ustne ustalenia\", \n",
    "#                             \"niespisane\", df$Spisanie_wymagan)\n",
    "\n",
    "df <- mutate(df, Spisanie_wymagan_norm = case_when(\n",
    "    Spisanie_wymagan == \"tak, na samym początku\" ~ \"na początku\",\n",
    "    Spisanie_wymagan == \"tak, stopniowo w trakcie projektu (np. w postaci user stories)\" ~ \"w trakcie\",\n",
    "    Spisanie_wymagan == \"tak, na samym początku, ale później często się zmieniały\" ~ \"na początku, ale się zmieniały\",\n",
    "    Spisanie_wymagan == \"częściowo były spisywane, ale większość była przekazywana ustnie\" ~ \"częściowo\",\n",
    "    Spisanie_wymagan == \"nie, były tylko ustne ustalenia\" ~ \"niespisane\",\n",
    "#     TRUE ~ as.character(df$Spisanie_wymagan)\n",
    "    TRUE ~ \"inne\"\n",
    "))\n",
    "\n",
    "#TODO nazwa zmiennej\n",
    "writing_specification_levels <- c(\"na początku\", \"w trakcie\", \"na początku, ale się zmieniały\", \"częściowo\", \"niespisane\", \"inne\")\n",
    "df$Spisanie_wymagan_norm <- parse_factor(df$Spisanie_wymagan_norm, levels = writing_specification_levels)\n",
    "\n",
    "# df$Spisanie_wymagan_norm\n",
    "count(df, Spisanie_wymagan_norm)"
   ]
  },
  {
   "cell_type": "markdown",
   "metadata": {},
   "source": [
    "#### Osoba odpowiedzialna"
   ]
  },
  {
   "cell_type": "code",
   "execution_count": 10,
   "metadata": {
    "scrolled": false
   },
   "outputs": [],
   "source": [
    "# df$Os_odpowiedzialna <- gsub(\"tak, była to osoba z biznesu\", \n",
    "#                              \"biznes\", \n",
    "#                              df$Os_odpowiedzialna)\n",
    "# df$Os_odpowiedzialna <- gsub(\"tak, była to osoba z zespołu programistów\", \n",
    "#                              \"programista\", \n",
    "#                              df$Os_odpowiedzialna)\n",
    "# df$Os_odpowiedzialna <- gsub(\"tak, była to osoba z zespołu testerów\", \n",
    "#                              \"tester\", \n",
    "#                              df$Os_odpowiedzialna)\n",
    "# df$Os_odpowiedzialna <- gsub(\"nie, cały zespół był odpowiedzialny za utrzymywanie specyfikacji\", \n",
    "#                              \"zespół\", \n",
    "#                              df$Os_odpowiedzialna)\n",
    "# df$Os_odpowiedzialna <- gsub(\"nie, nikt nie był odpowiedzialny i przez to specyfikacja po jakimś czasie stawała się nieaktualna\", \n",
    "#                              \"nikt\", \n",
    "#                              df$Os_odpowiedzialna)\n",
    "\n",
    "# TODO zdecyduje sie na jeden sposob: albo raz deklaruje poziomy jak tu, albo dwa razy te wartosci podaje\n",
    "\n",
    "df <- mutate(df, Os_odpowiedzialna_norm = case_when(\n",
    "    Os_odpowiedzialna == \"tak, była to osoba z biznesu\" \n",
    "        | Os_odpowiedzialna == \"analityk\"\n",
    "        | Os_odpowiedzialna == \"analitycy\"\n",
    "        | Os_odpowiedzialna == \"Tak, był to Biznes Analityk :) \"\n",
    "        | Os_odpowiedzialna == \"tak, PO\"\n",
    "        | Os_odpowiedzialna == \"tak, była to osoba z zespołu analityków\"\n",
    "        ~ \"biznes\",\n",
    "    Os_odpowiedzialna == \"tak, była to osoba z zespołu programistów\" \n",
    "        ~ \"programista\",\n",
    "    Os_odpowiedzialna == \"tak, była to osoba z zespołu testerów\" \n",
    "        | grepl(\"tester.*poczuł.*się\", df$Os_odpowiedzialna, ignore.case=TRUE)\n",
    "        ~ \"tester\",\n",
    "    Os_odpowiedzialna == \"nie, cały zespół był odpowiedzialny za utrzymywanie specyfikacji\" \n",
    "        ~ \"zespół\",\n",
    "    Os_odpowiedzialna == \"nie, nikt nie był odpowiedzialny i przez to specyfikacja po jakimś czasie stawała się nieaktualna\" \n",
    "        ~ \"nikt\",\n",
    "    Os_odpowiedzialna == \"Analityk i programiści\"\n",
    "        | Os_odpowiedzialna == \"analityk i architekt\"\n",
    "        ~ \"biznes i programista\",\n",
    "    TRUE ~ \"inne\"\n",
    "))\n",
    "\n",
    "spec_responsibility_levels <- c(\"biznes\", \"programista\", \"tester\", \"zespół\", \"nikt\", \"biznes i programista\", \"inne\")\n",
    "df$Os_odpowiedzialna_norm <- parse_factor(df$Os_odpowiedzialna_norm, levels = spec_responsibility_levels)\n",
    "\n",
    "# count(df, Os_odpowiedzialna_norm)\n",
    "# df %>% select(Os_odpowiedzialna_norm, Os_odpowiedzialna) %>% filter(Os_odpowiedzialna_norm == \"inne\")"
   ]
  },
  {
   "cell_type": "markdown",
   "metadata": {},
   "source": [
    "#### Liczba stron"
   ]
  },
  {
   "cell_type": "code",
   "execution_count": 11,
   "metadata": {},
   "outputs": [
    {
     "data": {
      "text/html": [
       "<table>\n",
       "<thead><tr><th scope=col>L_stron_norm</th><th scope=col>L_stron</th></tr></thead>\n",
       "<tbody>\n",
       "\t<tr><td>inne  </td><td>Prs   </td></tr>\n",
       "\t<tr><td>inne  </td><td>róznie</td></tr>\n",
       "</tbody>\n",
       "</table>\n"
      ],
      "text/latex": [
       "\\begin{tabular}{r|ll}\n",
       " L\\_stron\\_norm & L\\_stron\\\\\n",
       "\\hline\n",
       "\t inne   & Prs   \\\\\n",
       "\t inne   & róznie\\\\\n",
       "\\end{tabular}\n"
      ],
      "text/markdown": [
       "\n",
       "| L_stron_norm | L_stron |\n",
       "|---|---|\n",
       "| inne   | Prs    |\n",
       "| inne   | róznie |\n",
       "\n"
      ],
      "text/plain": [
       "  L_stron_norm L_stron\n",
       "1 inne         Prs    \n",
       "2 inne         róznie "
      ]
     },
     "metadata": {},
     "output_type": "display_data"
    },
    {
     "data": {
      "text/html": [
       "<table>\n",
       "<thead><tr><th scope=col>L_stron_norm</th><th scope=col>n</th></tr></thead>\n",
       "<tbody>\n",
       "\t<tr><td>do pół strony           </td><td> 5                      </td></tr>\n",
       "\t<tr><td>do 1 strony             </td><td> 7                      </td></tr>\n",
       "\t<tr><td>do 10 stron             </td><td> 9                      </td></tr>\n",
       "\t<tr><td>powyżej 10 stron        </td><td>34                      </td></tr>\n",
       "\t<tr><td>trudno ocenić (np. jira)</td><td> 8                      </td></tr>\n",
       "\t<tr><td>brak dostępu            </td><td> 1                      </td></tr>\n",
       "\t<tr><td>brak specyfikacji       </td><td> 7                      </td></tr>\n",
       "\t<tr><td>inne                    </td><td> 2                      </td></tr>\n",
       "</tbody>\n",
       "</table>\n"
      ],
      "text/latex": [
       "\\begin{tabular}{r|ll}\n",
       " L\\_stron\\_norm & n\\\\\n",
       "\\hline\n",
       "\t do pół strony            &  5                      \\\\\n",
       "\t do 1 strony              &  7                      \\\\\n",
       "\t do 10 stron              &  9                      \\\\\n",
       "\t powyżej 10 stron         & 34                      \\\\\n",
       "\t trudno ocenić (np. jira) &  8                      \\\\\n",
       "\t brak dostępu             &  1                      \\\\\n",
       "\t brak specyfikacji        &  7                      \\\\\n",
       "\t inne                     &  2                      \\\\\n",
       "\\end{tabular}\n"
      ],
      "text/markdown": [
       "\n",
       "| L_stron_norm | n |\n",
       "|---|---|\n",
       "| do pół strony            |  5                       |\n",
       "| do 1 strony              |  7                       |\n",
       "| do 10 stron              |  9                       |\n",
       "| powyżej 10 stron         | 34                       |\n",
       "| trudno ocenić (np. jira) |  8                       |\n",
       "| brak dostępu             |  1                       |\n",
       "| brak specyfikacji        |  7                       |\n",
       "| inne                     |  2                       |\n",
       "\n"
      ],
      "text/plain": [
       "  L_stron_norm             n \n",
       "1 do pół strony             5\n",
       "2 do 1 strony               7\n",
       "3 do 10 stron               9\n",
       "4 powyżej 10 stron         34\n",
       "5 trudno ocenić (np. jira)  8\n",
       "6 brak dostępu              1\n",
       "7 brak specyfikacji         7\n",
       "8 inne                      2"
      ]
     },
     "metadata": {},
     "output_type": "display_data"
    }
   ],
   "source": [
    "# df$L_stron <- gsub(\"nie miałem(am) dostępu do specyfikacji\",\n",
    "#                   \"brak dostępu\",\n",
    "#                   df$L_stron)\n",
    "# df$L_stron <- gsub(\"nie było żadnej specyfikacji\",\n",
    "#                   \"brak specyfikacji\",\n",
    "#                   df$L_stron)\n",
    "\n",
    "df <- mutate(df, L_stron_norm = case_when(\n",
    "    L_stron == \"do pół strony\"\n",
    "        ~ \"do pół strony\",\n",
    "    L_stron == \"do 1 strony\"\n",
    "        ~ \"do 1 strony\",\n",
    "    L_stron == \"do 10 stron\"\n",
    "        | L_stron == \"Licząc z mockupami to over 9000, sensownej treści max 2 strony\"\n",
    "        ~ \"do 10 stron\",\n",
    "    L_stron == \"powyżej 10 stron\"\n",
    "        | L_stron == \"50\"\n",
    "        | L_stron == \"43 str\"\n",
    "        | L_stron == \"50-70 stron\"\n",
    "        | L_stron == \"pojedyncze user story do okolo 1 strony, calosci aplikacji? moze w 100 stronach by się zamkneło ale prawd. wiecej\"\n",
    "        | L_stron == \"Wielkość specyfikacji była zależne od zakresu, który opisywała; średnio około 10 - 30 stron\"\n",
    "        ~ \"powyżej 10 stron\",\n",
    "    grepl(\"jir\", df$L_stron, ignore.case = TRUE)\n",
    "        | L_stron == \"Cieżko powiedzieć. Wszystko było na Confluence Wiki\"\n",
    "        | L_stron == \"trudno powiedzieć. od 1 do 300\"\n",
    "        | L_stron == \"nigdy nie zbierałem sumarycznej ilości dokumentacji\"\n",
    "        ~ \"trudno ocenić (np. jira)\", \n",
    "    L_stron == \"nie miałem(am) dostępu do specyfikacji\"\n",
    "        ~ \"brak dostępu\",\n",
    "    L_stron == \"nie było żadnej specyfikacji\"\n",
    "        ~ \"brak specyfikacji\",\n",
    "    TRUE ~ \"inne\"\n",
    "))\n",
    "\n",
    "\n",
    "spec_length_levels <- c(\"do pół strony\", \"do 1 strony\", \"do 10 stron\", \"powyżej 10 stron\", \"trudno ocenić (np. jira)\", \"brak dostępu\", \"brak specyfikacji\", \"inne\")\n",
    "df$L_stron_norm <- parse_factor(df$L_stron_norm, levels = spec_length_levels)\n",
    "\n",
    "select(df, L_stron_norm, L_stron) %>% filter(L_stron_norm == \"inne\")\n",
    "\n",
    "count(df, L_stron_norm)"
   ]
  },
  {
   "cell_type": "markdown",
   "metadata": {},
   "source": [
    "#### Ważność specyfikacji"
   ]
  },
  {
   "cell_type": "code",
   "execution_count": 12,
   "metadata": {},
   "outputs": [],
   "source": [
    "# df$Waznosc_spec <- gsub(\"tak, bez niej trudno byłoby na czas zakończyć projekt\",\n",
    "#                      \"dobra\",\n",
    "#                      df$Waznosc_spec)\n",
    "# df$Waznosc_spec <- gsub(\"specyfikacja była ważna szczególnie na początku projektu, ale w miarę jak projekt się rozwijał, wymagania się zmieniały i ostatecznie specyfikacja nie była aktualna i nikt na niej nie bazował\",\n",
    "#                      \"nieaktualna\",\n",
    "#                      df$Waznosc_spec)\n",
    "# df$Waznosc_spec <- gsub(\"nie, specyfikacja była złej jakości i wiele czasu było później poświęconego na dodatkowe ustalenia\",\n",
    "#                      \"zła\",\n",
    "#                      df$Waznosc_spec)\n",
    "# df$Waznosc_spec <- gsub(\"daliśmy radę bez specyfikacji ;)\",\n",
    "#                      \"brak specyfikacji\",\n",
    "#                      df$Waznosc_spec)\n",
    "\n",
    "df <- mutate(df, Waznosc_spec_norm = case_when(\n",
    "        Waznosc_spec == \"tak, bez niej trudno byłoby na czas zakończyć projekt\"\n",
    "            | Waznosc_spec == \"Specyfikacja była aktualizowana, przypadki użycia również, projekt ciągle trwa i aktualizacja dokumentacji jest niezbędna do zachowania jakości aplikacji\"\n",
    "            | Waznosc_spec == \"teoretycznie tak, w praktyce nie zawsze programiści/testerzy z niej korzystali; bazowali na historyjkach\"\n",
    "            | Waznosc_spec == \"kluczowy - dobrze zrobiona ograniczała papierologię oraz pisanie funkcji na półkę i ego właściciela\"\n",
    "            | Waznosc_spec == \"Tak, bez niej trudno jest prowadzić projekt i spełnić ustalone wymagania klienta\"\n",
    "            | Waznosc_spec == \"ongoing project - bez jakieś postaci specyfikacji można było utonąć\"\n",
    "            ~ \"niezbędna\",\n",
    "        Waznosc_spec == \"specyfikacja była ważna szczególnie na początku projektu, ale w miarę jak projekt się rozwijał, wymagania się zmieniały i ostatecznie specyfikacja nie była aktualna i nikt na niej nie bazował\" \n",
    "            ~ \"potrzebna, ale nieaktualna\",\n",
    "        Waznosc_spec == \"nie, specyfikacja była złej jakości i wiele czasu było później poświęconego na dodatkowe ustalenia\"\n",
    "            ~ \"problematyczna, bo złej jakości\",\n",
    "        Waznosc_spec == \"daliśmy radę bez specyfikacji ;)\"\n",
    "            ~ \"brak specyfikacji\",\n",
    "        TRUE ~ \"inne\"\n",
    "))\n",
    "\n",
    "spec_importance_levels <- c(\"niezbędna\", \"potrzebna, ale nieaktualna\", \"problematyczna, bo złej jakości\", \"brak specyfikacji\", \"inne\")\n",
    "df$Waznosc_spec_norm <- parse_factor(df$Waznosc_spec_norm, levels = spec_importance_levels)\n",
    "\n",
    "# select(df, Waznosc_spec_norm, Waznosc_spec) %>% filter(Waznosc_spec_norm == \"inne\")\n",
    "\n",
    "# count(df, Waznosc_spec_norm)"
   ]
  },
  {
   "cell_type": "markdown",
   "metadata": {},
   "source": [
    "#### Cechy specyfikacji"
   ]
  },
  {
   "cell_type": "code",
   "execution_count": 13,
   "metadata": {},
   "outputs": [],
   "source": [
    "df <- mutate(df, Cechy_spec_norm = Cechy_spec)\n",
    "\n",
    "df$Cechy_spec_norm <- gsub(\"Terminologia zawarta w specyfikacji jest spójna i zrozumiała\",\n",
    "                     \"C_zrozumialosc\",\n",
    "                     df$Cechy_spec_norm)\n",
    "df$Cechy_spec_norm <- gsub(\"Specyfikacja mówi co jest do zrobienia, a nie jak ma być to zrobione \\\\(brak implementacyjnych wskazówek\\\\)\",\n",
    "                     \"C_deklaratywnosc\",\n",
    "                     df$Cechy_spec_norm)\n",
    "df$Cechy_spec_norm <- gsub(\"Specyfikacja nie zawiera niejednoznacznych stwierdzeń\",\n",
    "                     \"C_jednoznacznosc\",\n",
    "                     df$Cechy_spec_norm)\n",
    "df$Cechy_spec_norm <- gsub(\"Jedno stwierdzenie zawiera tylko jedno wymaganie\",\n",
    "                     \"C_pojedyncze_wymagania\",\n",
    "                     df$Cechy_spec_norm)\n",
    "df$Cechy_spec_norm <- gsub(\"Specyfikacja zawiera wymagania opisane na różnym poziomie szczegółowości \\\\(np. cele biznesowe, opis usług żądanych od oprogramowania, opis wewnętrznej logiki biznesowej\\\\)\",\n",
    "                     \"C_poz_szczegolowosci\",\n",
    "                     df$Cechy_spec_norm)\n",
    "df$Cechy_spec_norm <- gsub(\"Specyfikacja jest kompletna - spisane zostały wszystkie wymagania, nie tylko funkcjonalne, ale też wydajnościowe, sprzętowe, dotyczące bezpieczeństwa, zgodności z prawem itp.\",\n",
    "                     \"C_kompletnosc\",\n",
    "                     df$Cechy_spec_norm)\n",
    "df$Cechy_spec_norm <- gsub(\"Spisane wymagania nie wykluczają siebie nawzajem\",\n",
    "                     \"C_koherencja\",\n",
    "                     df$Cechy_spec_norm)\n",
    "df$Cechy_spec_norm <- gsub(\"Specyfikacja zawiera wymagania dotyczące obsługi błędów i innych nieoczekiwanych zachowań systemu\",\n",
    "                     \"C_obsluga_bledow\",\n",
    "                     df$Cechy_spec_norm)\n",
    "df$Cechy_spec_norm <- gsub(\"Specyfikacja zawiera informacje na temat ograniczeń systemu\",\n",
    "                     \"C_ograniczenia_systemu\",\n",
    "                     df$Cechy_spec_norm)\n",
    "df$Cechy_spec_norm <- gsub(\"Specyfikacja zawiera jawny opis warunków, które nie muszą  być spełnione, bo nie są istotne lub klient tego nie chce  \\\\(np. rejestracja ma być bez captchy, aplikacja ma nie działać na IE\\\\)\",\n",
    "                     \"C_cechy_nieistotne\",\n",
    "                     df$Cechy_spec_norm)\n",
    "df$Cechy_spec_norm <- gsub(\"Wymagania są testowalne \\\\(m.in. wymagania są wolne od ogólnikowych stwierdzeń, np. dobry, wystarczający, odpowiedni, bezpieczny, szybki, łatwy itp.; są na tyle precyzyjne, że łatwo na ich podstawie określić kryteria sukcesu/spełnienia itp.\\\\)\",\n",
    "                     \"C_testowalnosc\",\n",
    "                     df$Cechy_spec_norm)\n",
    "df$Cechy_spec_norm <- gsub(\"Specyfikacja zawiera przykłady użycia zamiast ogólnych, abstrakcyjnych stwierdzeń, które tylko z pozoru są precyzyjne, a ich dokładna analiza wskazuje, że jest wiele przypadków brzegowych, dla których nie jest jednoznacznie opisane oczekiwane zachowanie systemu\",\n",
    "                     \"C_przyklady_uzycia\",\n",
    "                     df$Cechy_spec_norm)\n",
    "df$Cechy_spec_norm <- gsub(\"Specyfikacja jest poprawna gramatycznie, ortograficznie i interpunkcyjnie; nie ma w niej literówek\",\n",
    "                     \"C_poprawnosc_jez\",\n",
    "                     df$Cechy_spec_norm)\n",
    "df$Cechy_spec_norm <- gsub(\"Specyfikacja jest przejrzysta graficznie \\\\(m.in. podzielona jest na logiczne punkty/rozdziały/sekcje; formatowanie tekstu ułatwia czytanie: jest spójna czcionka, interlinia w obrębie sekcji, zachowane są odstępy między sekcjami itd.\\\\)\",\n",
    "                     \"C_przejrzystosc_graf\",\n",
    "                     df$Cechy_spec_norm)\n",
    "df$Cechy_spec_norm <- gsub(\"Jest aktualna.|Specyfikacja jest up to date\", \"C_aktualnosc\", df$Cechy_spec_norm)\n",
    "df$Cechy_spec_norm <- gsub(\"jest|Musi istnieć\", \"C_egzystencja\", df$Cechy_spec_norm)"
   ]
  },
  {
   "cell_type": "markdown",
   "metadata": {},
   "source": [
    "#### Wady"
   ]
  },
  {
   "cell_type": "code",
   "execution_count": 14,
   "metadata": {},
   "outputs": [],
   "source": [
    "# TODO"
   ]
  },
  {
   "cell_type": "code",
   "execution_count": 15,
   "metadata": {},
   "outputs": [],
   "source": [
    "# count(df, Os_odpowiedzialna)"
   ]
  },
  {
   "cell_type": "markdown",
   "metadata": {},
   "source": [
    "#### Cechy specyfikacji\n",
    "\n",
    "##### Utworzenie osobnych kolumn dla każdej cechy specyfikacji z osobna"
   ]
  },
  {
   "cell_type": "code",
   "execution_count": 16,
   "metadata": {},
   "outputs": [],
   "source": [
    "a<-gsub(\"\\' \\'\", \";\", df$Cechy_spec_norm)\n",
    "b<-gsub(\"\\'\", \";\", a)\n",
    "c <-strsplit(b, \";\")\n",
    "d <- unlist(c)\n",
    "features <- sort(unique(d))\n",
    "# print(features)\n",
    "\n",
    "# class(features)\n",
    "\n",
    "for (f in features){\n",
    "#     print(f)\n",
    "    df[f] <- grepl(f, df$Cechy_spec_norm, fixed=TRUE)\n",
    "}\n",
    "\n",
    "# df$C_poprawnosc_jez\n",
    "# df"
   ]
  },
  {
   "cell_type": "markdown",
   "metadata": {},
   "source": [
    "## Analiza"
   ]
  },
  {
   "cell_type": "markdown",
   "metadata": {},
   "source": [
    "### Najistotniejsze cechy"
   ]
  },
  {
   "cell_type": "code",
   "execution_count": 17,
   "metadata": {},
   "outputs": [
    {
     "data": {
      "text/html": [
       "'data.frame'"
      ],
      "text/latex": [
       "'data.frame'"
      ],
      "text/markdown": [
       "'data.frame'"
      ],
      "text/plain": [
       "[1] \"data.frame\""
      ]
     },
     "metadata": {},
     "output_type": "display_data"
    },
    {
     "data": {
      "text/html": [
       "<table>\n",
       "<thead><tr><th></th><th scope=col>Cecha</th><th scope=col>Liczba_wystapien</th></tr></thead>\n",
       "<tbody>\n",
       "\t<tr><th scope=row>C_koherencja</th><td>C_koherencja          </td><td>52                    </td></tr>\n",
       "\t<tr><th scope=row>C_testowalnosc</th><td>C_testowalnosc        </td><td>50                    </td></tr>\n",
       "\t<tr><th scope=row>C_zrozumialosc</th><td>C_zrozumialosc        </td><td>44                    </td></tr>\n",
       "\t<tr><th scope=row>C_kompletnosc</th><td>C_kompletnosc         </td><td>38                    </td></tr>\n",
       "\t<tr><th scope=row>C_przyklady_uzycia</th><td>C_przyklady_uzycia    </td><td>38                    </td></tr>\n",
       "\t<tr><th scope=row>C_jednoznacznosc</th><td>C_jednoznacznosc      </td><td>34                    </td></tr>\n",
       "\t<tr><th scope=row>C_deklaratywnosc</th><td>C_deklaratywnosc      </td><td>32                    </td></tr>\n",
       "\t<tr><th scope=row>C_poz_szczegolowosci</th><td>C_poz_szczegolowosci  </td><td>26                    </td></tr>\n",
       "\t<tr><th scope=row>C_przejrzystosc_graf</th><td>C_przejrzystosc_graf  </td><td>25                    </td></tr>\n",
       "\t<tr><th scope=row>C_obsluga_bledow</th><td>C_obsluga_bledow      </td><td>13                    </td></tr>\n",
       "\t<tr><th scope=row>C_cechy_nieistotne</th><td>C_cechy_nieistotne    </td><td>12                    </td></tr>\n",
       "\t<tr><th scope=row>C_ograniczenia_systemu</th><td>C_ograniczenia_systemu</td><td> 8                    </td></tr>\n",
       "\t<tr><th scope=row>C_pojedyncze_wymagania</th><td>C_pojedyncze_wymagania</td><td> 6                    </td></tr>\n",
       "\t<tr><th scope=row>C_poprawnosc_jez</th><td>C_poprawnosc_jez      </td><td> 5                    </td></tr>\n",
       "\t<tr><th scope=row>C_aktualnosc</th><td>C_aktualnosc          </td><td> 2                    </td></tr>\n",
       "\t<tr><th scope=row>C_egzystencja</th><td>C_egzystencja         </td><td> 2                    </td></tr>\n",
       "</tbody>\n",
       "</table>\n"
      ],
      "text/latex": [
       "\\begin{tabular}{r|ll}\n",
       "  & Cecha & Liczba\\_wystapien\\\\\n",
       "\\hline\n",
       "\tC\\_koherencja & C\\_koherencja           & 52                      \\\\\n",
       "\tC\\_testowalnosc & C\\_testowalnosc         & 50                      \\\\\n",
       "\tC\\_zrozumialosc & C\\_zrozumialosc         & 44                      \\\\\n",
       "\tC\\_kompletnosc & C\\_kompletnosc          & 38                      \\\\\n",
       "\tC\\_przyklady\\_uzycia & C\\_przyklady\\_uzycia     & 38                        \\\\\n",
       "\tC\\_jednoznacznosc & C\\_jednoznacznosc       & 34                      \\\\\n",
       "\tC\\_deklaratywnosc & C\\_deklaratywnosc       & 32                      \\\\\n",
       "\tC\\_poz\\_szczegolowosci & C\\_poz\\_szczegolowosci   & 26                        \\\\\n",
       "\tC\\_przejrzystosc\\_graf & C\\_przejrzystosc\\_graf   & 25                        \\\\\n",
       "\tC\\_obsluga\\_bledow & C\\_obsluga\\_bledow       & 13                        \\\\\n",
       "\tC\\_cechy\\_nieistotne & C\\_cechy\\_nieistotne     & 12                        \\\\\n",
       "\tC\\_ograniczenia\\_systemu & C\\_ograniczenia\\_systemu &  8                        \\\\\n",
       "\tC\\_pojedyncze\\_wymagania & C\\_pojedyncze\\_wymagania &  6                        \\\\\n",
       "\tC\\_poprawnosc\\_jez & C\\_poprawnosc\\_jez       &  5                        \\\\\n",
       "\tC\\_aktualnosc & C\\_aktualnosc           &  2                      \\\\\n",
       "\tC\\_egzystencja & C\\_egzystencja          &  2                      \\\\\n",
       "\\end{tabular}\n"
      ],
      "text/markdown": [
       "\n",
       "| <!--/--> | Cecha | Liczba_wystapien |\n",
       "|---|---|---|\n",
       "| C_koherencja | C_koherencja           | 52                     |\n",
       "| C_testowalnosc | C_testowalnosc         | 50                     |\n",
       "| C_zrozumialosc | C_zrozumialosc         | 44                     |\n",
       "| C_kompletnosc | C_kompletnosc          | 38                     |\n",
       "| C_przyklady_uzycia | C_przyklady_uzycia     | 38                     |\n",
       "| C_jednoznacznosc | C_jednoznacznosc       | 34                     |\n",
       "| C_deklaratywnosc | C_deklaratywnosc       | 32                     |\n",
       "| C_poz_szczegolowosci | C_poz_szczegolowosci   | 26                     |\n",
       "| C_przejrzystosc_graf | C_przejrzystosc_graf   | 25                     |\n",
       "| C_obsluga_bledow | C_obsluga_bledow       | 13                     |\n",
       "| C_cechy_nieistotne | C_cechy_nieistotne     | 12                     |\n",
       "| C_ograniczenia_systemu | C_ograniczenia_systemu |  8                     |\n",
       "| C_pojedyncze_wymagania | C_pojedyncze_wymagania |  6                     |\n",
       "| C_poprawnosc_jez | C_poprawnosc_jez       |  5                     |\n",
       "| C_aktualnosc | C_aktualnosc           |  2                     |\n",
       "| C_egzystencja | C_egzystencja          |  2                     |\n",
       "\n"
      ],
      "text/plain": [
       "                       Cecha                  Liczba_wystapien\n",
       "C_koherencja           C_koherencja           52              \n",
       "C_testowalnosc         C_testowalnosc         50              \n",
       "C_zrozumialosc         C_zrozumialosc         44              \n",
       "C_kompletnosc          C_kompletnosc          38              \n",
       "C_przyklady_uzycia     C_przyklady_uzycia     38              \n",
       "C_jednoznacznosc       C_jednoznacznosc       34              \n",
       "C_deklaratywnosc       C_deklaratywnosc       32              \n",
       "C_poz_szczegolowosci   C_poz_szczegolowosci   26              \n",
       "C_przejrzystosc_graf   C_przejrzystosc_graf   25              \n",
       "C_obsluga_bledow       C_obsluga_bledow       13              \n",
       "C_cechy_nieistotne     C_cechy_nieistotne     12              \n",
       "C_ograniczenia_systemu C_ograniczenia_systemu  8              \n",
       "C_pojedyncze_wymagania C_pojedyncze_wymagania  6              \n",
       "C_poprawnosc_jez       C_poprawnosc_jez        5              \n",
       "C_aktualnosc           C_aktualnosc            2              \n",
       "C_egzystencja          C_egzystencja           2              "
      ]
     },
     "metadata": {},
     "output_type": "display_data"
    }
   ],
   "source": [
    "# summarise(df, suma = sum(df$C_ograniczenia_systemu))\n",
    "# ok, ale to trzeba zrobić dla każdej kolumny C_...\n",
    "\n",
    "#dla każdej kolumny\n",
    "# x<-select(df, C_aktualnosc:C_zrozumialosc)\n",
    "# p <- sort(apply(x, 2, sum), decreasing=TRUE)\n",
    "# p\n",
    "\n",
    "#to samo ale z pipem!\n",
    "\n",
    "features_importance <- df %>% \n",
    "    select(C_aktualnosc:C_zrozumialosc) %>% \n",
    "    apply(2, sum) %>% \n",
    "    sort(decreasing=TRUE)\n",
    "\n",
    "# class(features_importance)\n",
    "# features_importance\n",
    "\n",
    "# alternatywny zapis by otrzymać feature importance:\n",
    "# x<-select(df, C_aktualnosc:C_zrozumialosc)\n",
    "# x2 <- sort(apply(x, 2, sum), decreasing=TRUE)\n",
    "# x2\n",
    "\n",
    "\n",
    "#Ważna metoda!!! zamienia vector na data frame!\n",
    "fi <- cbind(read.table(text = names(features_importance)), features_importance)\n",
    "colnames(fi) <- c(\"Cecha\", \"Liczba_wystapien\")\n",
    "class(fi)\n",
    "\n",
    "fi\n"
   ]
  },
  {
   "cell_type": "markdown",
   "metadata": {},
   "source": [
    "#### Wizualizacja"
   ]
  },
  {
   "cell_type": "code",
   "execution_count": 18,
   "metadata": {},
   "outputs": [
    {
     "data": {
      "image/png": "[encoded data removed]",
      "text/plain": [
       "plot without title"
      ]
     },
     "metadata": {},
     "output_type": "display_data"
    }
   ],
   "source": [
    "options(repr.plot.width=10, repr.plot.height=10)\n",
    "\n",
    "f <- ggplot(data=fi, aes(x=Cecha, y=Liczba_wystapien))\n",
    "f + geom_col() + theme(axis.text.x = element_text(angle = -90, hjust = 1)) \n",
    "\n",
    "# jeśli chcę z kolorami to geom_col(aes(fill=Cecha)) i wtedy jest dodatkowa legenda"
   ]
  },
  {
   "cell_type": "code",
   "execution_count": 19,
   "metadata": {},
   "outputs": [
    {
     "data": {
      "text/html": [
       "36.5"
      ],
      "text/latex": [
       "36.5"
      ],
      "text/markdown": [
       "36.5"
      ],
      "text/plain": [
       "[1] 36.5"
      ]
     },
     "metadata": {},
     "output_type": "display_data"
    }
   ],
   "source": [
    "nrow(df)/2"
   ]
  },
  {
   "cell_type": "code",
   "execution_count": 20,
   "metadata": {
    "scrolled": true
   },
   "outputs": [
    {
     "data": {
      "text/html": [
       "<table>\n",
       "<thead><tr><th scope=col>Kombinacja</th><th scope=col>Liczba_wystapien</th></tr></thead>\n",
       "<tbody>\n",
       "\t<tr><td>C_jednoznacznosc+C_koherencja                     </td><td>25                                                </td></tr>\n",
       "\t<tr><td>C_jednoznacznosc+C_kompletnosc                    </td><td>12                                                </td></tr>\n",
       "\t<tr><td>C_jednoznacznosc+C_przyklady_uzycia               </td><td>21                                                </td></tr>\n",
       "\t<tr><td>C_jednoznacznosc+C_testowalnosc                   </td><td>25                                                </td></tr>\n",
       "\t<tr><td>C_jednoznacznosc+C_zrozumialosc                   </td><td>22                                                </td></tr>\n",
       "\t<tr><td>C_koherencja+C_kompletnosc                        </td><td>26                                                </td></tr>\n",
       "\t<tr><td>C_koherencja+C_przyklady_uzycia                   </td><td>31                                                </td></tr>\n",
       "\t<tr><td>C_koherencja+C_testowalnosc                       </td><td>37                                                </td></tr>\n",
       "\t<tr><td>C_koherencja+C_zrozumialosc                       </td><td>30                                                </td></tr>\n",
       "\t<tr><td>C_kompletnosc+C_przyklady_uzycia                  </td><td>21                                                </td></tr>\n",
       "\t<tr><td>C_kompletnosc+C_testowalnosc                      </td><td>26                                                </td></tr>\n",
       "\t<tr><td>C_kompletnosc+C_zrozumialosc                      </td><td>23                                                </td></tr>\n",
       "\t<tr><td>C_przyklady_uzycia+C_testowalnosc                 </td><td>28                                                </td></tr>\n",
       "\t<tr><td>C_przyklady_uzycia+C_zrozumialosc                 </td><td>23                                                </td></tr>\n",
       "\t<tr><td>C_testowalnosc+C_zrozumialosc                     </td><td>30                                                </td></tr>\n",
       "\t<tr><td>C_jednoznacznosc+C_koherencja+C_kompletnosc       </td><td> 8                                                </td></tr>\n",
       "\t<tr><td>C_jednoznacznosc+C_koherencja+C_przyklady_uzycia  </td><td>17                                                </td></tr>\n",
       "\t<tr><td>C_jednoznacznosc+C_koherencja+C_testowalnosc      </td><td>18                                                </td></tr>\n",
       "\t<tr><td>C_jednoznacznosc+C_koherencja+C_zrozumialosc      </td><td>15                                                </td></tr>\n",
       "\t<tr><td>C_jednoznacznosc+C_kompletnosc+C_przyklady_uzycia </td><td> 8                                                </td></tr>\n",
       "\t<tr><td>C_jednoznacznosc+C_kompletnosc+C_testowalnosc     </td><td> 8                                                </td></tr>\n",
       "\t<tr><td>C_jednoznacznosc+C_kompletnosc+C_zrozumialosc     </td><td> 8                                                </td></tr>\n",
       "\t<tr><td>C_jednoznacznosc+C_przyklady_uzycia+C_testowalnosc</td><td>13                                                </td></tr>\n",
       "\t<tr><td>C_jednoznacznosc+C_przyklady_uzycia+C_zrozumialosc</td><td>15                                                </td></tr>\n",
       "\t<tr><td>C_jednoznacznosc+C_testowalnosc+C_zrozumialosc    </td><td>16                                                </td></tr>\n",
       "\t<tr><td>C_koherencja+C_kompletnosc+C_przyklady_uzycia     </td><td>16                                                </td></tr>\n",
       "\t<tr><td>C_koherencja+C_kompletnosc+C_testowalnosc         </td><td>18                                                </td></tr>\n",
       "\t<tr><td>C_koherencja+C_kompletnosc+C_zrozumialosc         </td><td>15                                                </td></tr>\n",
       "\t<tr><td>C_koherencja+C_przyklady_uzycia+C_testowalnosc    </td><td>22                                                </td></tr>\n",
       "\t<tr><td>C_koherencja+C_przyklady_uzycia+C_zrozumialosc    </td><td>18                                                </td></tr>\n",
       "\t<tr><td>C_koherencja+C_testowalnosc+C_zrozumialosc        </td><td>20                                                </td></tr>\n",
       "\t<tr><td>C_kompletnosc+C_przyklady_uzycia+C_testowalnosc   </td><td>16                                                </td></tr>\n",
       "\t<tr><td>C_kompletnosc+C_przyklady_uzycia+C_zrozumialosc   </td><td>10                                                </td></tr>\n",
       "\t<tr><td>C_kompletnosc+C_testowalnosc+C_zrozumialosc       </td><td>17                                                </td></tr>\n",
       "\t<tr><td>C_przyklady_uzycia+C_testowalnosc+C_zrozumialosc  </td><td>16                                                </td></tr>\n",
       "</tbody>\n",
       "</table>\n"
      ],
      "text/latex": [
       "\\begin{tabular}{r|ll}\n",
       " Kombinacja & Liczba\\_wystapien\\\\\n",
       "\\hline\n",
       "\t C\\_jednoznacznosc+C\\_koherencja                      & 25                                                    \\\\\n",
       "\t C\\_jednoznacznosc+C\\_kompletnosc                     & 12                                                    \\\\\n",
       "\t C\\_jednoznacznosc+C\\_przyklady\\_uzycia                & 21                                                      \\\\\n",
       "\t C\\_jednoznacznosc+C\\_testowalnosc                    & 25                                                    \\\\\n",
       "\t C\\_jednoznacznosc+C\\_zrozumialosc                    & 22                                                    \\\\\n",
       "\t C\\_koherencja+C\\_kompletnosc                         & 26                                                    \\\\\n",
       "\t C\\_koherencja+C\\_przyklady\\_uzycia                    & 31                                                      \\\\\n",
       "\t C\\_koherencja+C\\_testowalnosc                        & 37                                                    \\\\\n",
       "\t C\\_koherencja+C\\_zrozumialosc                        & 30                                                    \\\\\n",
       "\t C\\_kompletnosc+C\\_przyklady\\_uzycia                   & 21                                                      \\\\\n",
       "\t C\\_kompletnosc+C\\_testowalnosc                       & 26                                                    \\\\\n",
       "\t C\\_kompletnosc+C\\_zrozumialosc                       & 23                                                    \\\\\n",
       "\t C\\_przyklady\\_uzycia+C\\_testowalnosc                  & 28                                                      \\\\\n",
       "\t C\\_przyklady\\_uzycia+C\\_zrozumialosc                  & 23                                                      \\\\\n",
       "\t C\\_testowalnosc+C\\_zrozumialosc                      & 30                                                    \\\\\n",
       "\t C\\_jednoznacznosc+C\\_koherencja+C\\_kompletnosc        &  8                                                      \\\\\n",
       "\t C\\_jednoznacznosc+C\\_koherencja+C\\_przyklady\\_uzycia   & 17                                                        \\\\\n",
       "\t C\\_jednoznacznosc+C\\_koherencja+C\\_testowalnosc       & 18                                                      \\\\\n",
       "\t C\\_jednoznacznosc+C\\_koherencja+C\\_zrozumialosc       & 15                                                      \\\\\n",
       "\t C\\_jednoznacznosc+C\\_kompletnosc+C\\_przyklady\\_uzycia  &  8                                                        \\\\\n",
       "\t C\\_jednoznacznosc+C\\_kompletnosc+C\\_testowalnosc      &  8                                                      \\\\\n",
       "\t C\\_jednoznacznosc+C\\_kompletnosc+C\\_zrozumialosc      &  8                                                      \\\\\n",
       "\t C\\_jednoznacznosc+C\\_przyklady\\_uzycia+C\\_testowalnosc & 13                                                        \\\\\n",
       "\t C\\_jednoznacznosc+C\\_przyklady\\_uzycia+C\\_zrozumialosc & 15                                                        \\\\\n",
       "\t C\\_jednoznacznosc+C\\_testowalnosc+C\\_zrozumialosc     & 16                                                      \\\\\n",
       "\t C\\_koherencja+C\\_kompletnosc+C\\_przyklady\\_uzycia      & 16                                                        \\\\\n",
       "\t C\\_koherencja+C\\_kompletnosc+C\\_testowalnosc          & 18                                                      \\\\\n",
       "\t C\\_koherencja+C\\_kompletnosc+C\\_zrozumialosc          & 15                                                      \\\\\n",
       "\t C\\_koherencja+C\\_przyklady\\_uzycia+C\\_testowalnosc     & 22                                                        \\\\\n",
       "\t C\\_koherencja+C\\_przyklady\\_uzycia+C\\_zrozumialosc     & 18                                                        \\\\\n",
       "\t C\\_koherencja+C\\_testowalnosc+C\\_zrozumialosc         & 20                                                      \\\\\n",
       "\t C\\_kompletnosc+C\\_przyklady\\_uzycia+C\\_testowalnosc    & 16                                                        \\\\\n",
       "\t C\\_kompletnosc+C\\_przyklady\\_uzycia+C\\_zrozumialosc    & 10                                                        \\\\\n",
       "\t C\\_kompletnosc+C\\_testowalnosc+C\\_zrozumialosc        & 17                                                      \\\\\n",
       "\t C\\_przyklady\\_uzycia+C\\_testowalnosc+C\\_zrozumialosc   & 16                                                        \\\\\n",
       "\\end{tabular}\n"
      ],
      "text/markdown": [
       "\n",
       "| Kombinacja | Liczba_wystapien |\n",
       "|---|---|\n",
       "| C_jednoznacznosc+C_koherencja                      | 25                                                 |\n",
       "| C_jednoznacznosc+C_kompletnosc                     | 12                                                 |\n",
       "| C_jednoznacznosc+C_przyklady_uzycia                | 21                                                 |\n",
       "| C_jednoznacznosc+C_testowalnosc                    | 25                                                 |\n",
       "| C_jednoznacznosc+C_zrozumialosc                    | 22                                                 |\n",
       "| C_koherencja+C_kompletnosc                         | 26                                                 |\n",
       "| C_koherencja+C_przyklady_uzycia                    | 31                                                 |\n",
       "| C_koherencja+C_testowalnosc                        | 37                                                 |\n",
       "| C_koherencja+C_zrozumialosc                        | 30                                                 |\n",
       "| C_kompletnosc+C_przyklady_uzycia                   | 21                                                 |\n",
       "| C_kompletnosc+C_testowalnosc                       | 26                                                 |\n",
       "| C_kompletnosc+C_zrozumialosc                       | 23                                                 |\n",
       "| C_przyklady_uzycia+C_testowalnosc                  | 28                                                 |\n",
       "| C_przyklady_uzycia+C_zrozumialosc                  | 23                                                 |\n",
       "| C_testowalnosc+C_zrozumialosc                      | 30                                                 |\n",
       "| C_jednoznacznosc+C_koherencja+C_kompletnosc        |  8                                                 |\n",
       "| C_jednoznacznosc+C_koherencja+C_przyklady_uzycia   | 17                                                 |\n",
       "| C_jednoznacznosc+C_koherencja+C_testowalnosc       | 18                                                 |\n",
       "| C_jednoznacznosc+C_koherencja+C_zrozumialosc       | 15                                                 |\n",
       "| C_jednoznacznosc+C_kompletnosc+C_przyklady_uzycia  |  8                                                 |\n",
       "| C_jednoznacznosc+C_kompletnosc+C_testowalnosc      |  8                                                 |\n",
       "| C_jednoznacznosc+C_kompletnosc+C_zrozumialosc      |  8                                                 |\n",
       "| C_jednoznacznosc+C_przyklady_uzycia+C_testowalnosc | 13                                                 |\n",
       "| C_jednoznacznosc+C_przyklady_uzycia+C_zrozumialosc | 15                                                 |\n",
       "| C_jednoznacznosc+C_testowalnosc+C_zrozumialosc     | 16                                                 |\n",
       "| C_koherencja+C_kompletnosc+C_przyklady_uzycia      | 16                                                 |\n",
       "| C_koherencja+C_kompletnosc+C_testowalnosc          | 18                                                 |\n",
       "| C_koherencja+C_kompletnosc+C_zrozumialosc          | 15                                                 |\n",
       "| C_koherencja+C_przyklady_uzycia+C_testowalnosc     | 22                                                 |\n",
       "| C_koherencja+C_przyklady_uzycia+C_zrozumialosc     | 18                                                 |\n",
       "| C_koherencja+C_testowalnosc+C_zrozumialosc         | 20                                                 |\n",
       "| C_kompletnosc+C_przyklady_uzycia+C_testowalnosc    | 16                                                 |\n",
       "| C_kompletnosc+C_przyklady_uzycia+C_zrozumialosc    | 10                                                 |\n",
       "| C_kompletnosc+C_testowalnosc+C_zrozumialosc        | 17                                                 |\n",
       "| C_przyklady_uzycia+C_testowalnosc+C_zrozumialosc   | 16                                                 |\n",
       "\n"
      ],
      "text/plain": [
       "   Kombinacja                                         Liczba_wystapien\n",
       "1  C_jednoznacznosc+C_koherencja                      25              \n",
       "2  C_jednoznacznosc+C_kompletnosc                     12              \n",
       "3  C_jednoznacznosc+C_przyklady_uzycia                21              \n",
       "4  C_jednoznacznosc+C_testowalnosc                    25              \n",
       "5  C_jednoznacznosc+C_zrozumialosc                    22              \n",
       "6  C_koherencja+C_kompletnosc                         26              \n",
       "7  C_koherencja+C_przyklady_uzycia                    31              \n",
       "8  C_koherencja+C_testowalnosc                        37              \n",
       "9  C_koherencja+C_zrozumialosc                        30              \n",
       "10 C_kompletnosc+C_przyklady_uzycia                   21              \n",
       "11 C_kompletnosc+C_testowalnosc                       26              \n",
       "12 C_kompletnosc+C_zrozumialosc                       23              \n",
       "13 C_przyklady_uzycia+C_testowalnosc                  28              \n",
       "14 C_przyklady_uzycia+C_zrozumialosc                  23              \n",
       "15 C_testowalnosc+C_zrozumialosc                      30              \n",
       "16 C_jednoznacznosc+C_koherencja+C_kompletnosc         8              \n",
       "17 C_jednoznacznosc+C_koherencja+C_przyklady_uzycia   17              \n",
       "18 C_jednoznacznosc+C_koherencja+C_testowalnosc       18              \n",
       "19 C_jednoznacznosc+C_koherencja+C_zrozumialosc       15              \n",
       "20 C_jednoznacznosc+C_kompletnosc+C_przyklady_uzycia   8              \n",
       "21 C_jednoznacznosc+C_kompletnosc+C_testowalnosc       8              \n",
       "22 C_jednoznacznosc+C_kompletnosc+C_zrozumialosc       8              \n",
       "23 C_jednoznacznosc+C_przyklady_uzycia+C_testowalnosc 13              \n",
       "24 C_jednoznacznosc+C_przyklady_uzycia+C_zrozumialosc 15              \n",
       "25 C_jednoznacznosc+C_testowalnosc+C_zrozumialosc     16              \n",
       "26 C_koherencja+C_kompletnosc+C_przyklady_uzycia      16              \n",
       "27 C_koherencja+C_kompletnosc+C_testowalnosc          18              \n",
       "28 C_koherencja+C_kompletnosc+C_zrozumialosc          15              \n",
       "29 C_koherencja+C_przyklady_uzycia+C_testowalnosc     22              \n",
       "30 C_koherencja+C_przyklady_uzycia+C_zrozumialosc     18              \n",
       "31 C_koherencja+C_testowalnosc+C_zrozumialosc         20              \n",
       "32 C_kompletnosc+C_przyklady_uzycia+C_testowalnosc    16              \n",
       "33 C_kompletnosc+C_przyklady_uzycia+C_zrozumialosc    10              \n",
       "34 C_kompletnosc+C_testowalnosc+C_zrozumialosc        17              \n",
       "35 C_przyklady_uzycia+C_testowalnosc+C_zrozumialosc   16              "
      ]
     },
     "metadata": {},
     "output_type": "display_data"
    }
   ],
   "source": [
    "#--------------\n",
    "# Analiza na piechotę\n",
    "\n",
    "# sposób A\n",
    "# sposób B\n",
    "# l <- filter(select(df, C_aktualnosc:C_zrozumialosc), df$C_koherencja)\n",
    "# lapply(l, sum)\n",
    "\n",
    "\n",
    "#robiłam benchmark i wyszło, że szybciej liczy się dla sposobu A!!!\n",
    "\n",
    "#-----------------------\n",
    "\n",
    "#Tu chciałam popatrzeć na te wiersze, które spełniają dane warunki, fajne wykorzystanie one_of()\n",
    "\n",
    "# df %>%\n",
    "# filter(df$C_koherencja + df$C_testowalnosc + C_zrozumialosc + df$C_kompletnosc + df$C_przyklady_uzycia + df$C_jednoznacznosc > 3) %>%\n",
    "# select(one_of('C_koherencja', 'C_testowalnosc', 'C_zrozumialosc', 'C_kompletnosc', 'C_przyklady_uzycia', 'C_jednoznacznosc'))\n",
    "\n",
    "#Tutaj bardziej systematyczne podejście, które dla każdej kombinacji sprawdza liczbę wystąpień\n",
    "\n",
    "# install.packages('gtools')\n",
    "library(gtools)\n",
    "\n",
    "x <- c('C_koherencja', 'C_testowalnosc', 'C_zrozumialosc', 'C_kompletnosc', 'C_przyklady_uzycia', 'C_jednoznacznosc')\n",
    "p2 <- combinations(n=6,r=2,v=x)\n",
    "p3 <- combinations(n=6,r=3,v=x)\n",
    "\n",
    "\n",
    "comb <- data.frame(Kombinacja = character(0),\n",
    "                   Liczba_wystapien = numeric(0),\n",
    "                   stringsAsFactors=FALSE)\n",
    "\n",
    "\n",
    "#TODO \n",
    "# można by zrobic comb2 dla dwoch cech, comb3 dla trzech, i polaczenie tych dwoch - comb2_3\n",
    "\n",
    "for (row in 1:nrow(p2)) {\n",
    "    num <- nrow(filter(df, df[p2[row,1]], df[p2[row,2]]))\n",
    "    comb[row, 1] <- paste(p2[row,1], p2[row,2], sep=\"+\")\n",
    "    comb[row, 2] <- num\n",
    "}\n",
    "\n",
    "for (row in 1:nrow(p3)){\n",
    "    num <- nrow(filter(df, df[p3[row,1]], df[p3[row,2]], df[p3[row,3]]))\n",
    "    comb[row+nrow(p2), 1] <- paste(p3[row,1], p3[row,2], p3[row,3], sep=\"+\")\n",
    "    comb[row+nrow(p2), 2] <- num\n",
    "}\n",
    "\n",
    "\n",
    "comb"
   ]
  },
  {
   "cell_type": "code",
   "execution_count": 21,
   "metadata": {},
   "outputs": [
    {
     "data": {
      "image/png": "[encoded data removed]",
      "text/plain": [
       "plot without title"
      ]
     },
     "metadata": {},
     "output_type": "display_data"
    }
   ],
   "source": [
    "l_wystapien <- 28\n",
    "mod_comb <- filter(comb, Liczba_wystapien>l_wystapien)\n",
    "\n",
    "f <- ggplot(data=mod_comb, aes(x=Kombinacja, y=Liczba_wystapien))\n",
    "f + geom_col() + theme(axis.text.x = element_text(angle = -90, hjust = 1)) \n"
   ]
  },
  {
   "cell_type": "markdown",
   "metadata": {},
   "source": [
    "Zdecydowana większość testerów wybrała koherencję, testowalność, zrozumiałość, kompletność i stosowanie przykładów użycia jako istotne cechy specyfikacji. Niektóre kombinacje cech były wybierane częściej niż inne. I tak ponad połowa respondentów za istotne uznało zarówno koherencję jak i testowalność. Natomiast wśród kombinacji trzech cech najczęściej (22 razy) pojawiły się koherencja, testowalność i przykłady użycia."
   ]
  },
  {
   "cell_type": "code",
   "execution_count": 22,
   "metadata": {},
   "outputs": [],
   "source": [
    "# write_delim(df, \"df-cechy.csv\", delim=\"|\")"
   ]
  },
  {
   "cell_type": "markdown",
   "metadata": {},
   "source": [
    "### Statystyka opisowa"
   ]
  },
  {
   "cell_type": "markdown",
   "metadata": {},
   "source": [
    "#### Pomocnicze funkcje"
   ]
  },
  {
   "cell_type": "code",
   "execution_count": 23,
   "metadata": {},
   "outputs": [],
   "source": [
    "pretty_col_name <- function(col_name){\n",
    "    title <- strsplit(col_name, \"_\")[[1]]\n",
    "\n",
    "    if (tail(title,1) != \"norm\"){\n",
    "        title <- paste(title, collapse = \" \")\n",
    "    } else {\n",
    "        title <- paste(head(title,length(title)-1), collapse = \" \")\n",
    "    }\n",
    "    return(title)\n",
    "}"
   ]
  },
  {
   "cell_type": "code",
   "execution_count": 24,
   "metadata": {},
   "outputs": [],
   "source": [
    "freq_table <- function(col) {\n",
    "    x<-df %>% \n",
    "        count(df[[col]]) %>%\n",
    "        mutate(Procent=n/nrow(df)*100) %>%\n",
    "        mutate(Suma=cumsum(Procent))\n",
    "    colnames(x)[colnames(x) == \"df[[col]]\"] <- pretty_col_name(col)\n",
    "    return(x)\n",
    "}\n",
    "#TODO dla dlugosci jest to bez sensu, \n",
    "# lista_kolumn <- c('Dl_projektu', 'Udzial_testerow_norm')\n",
    "\n",
    "# for (el in lista_kolumn){\n",
    "# #     print(f(el))\n",
    "#     freq_table(el)\n",
    "# }\n",
    "\n",
    "# freq_table('Udzial_testerow_norm')\n",
    "# colnames(df)"
   ]
  },
  {
   "cell_type": "code",
   "execution_count": 25,
   "metadata": {},
   "outputs": [],
   "source": [
    "# Wielkość wykresów\n",
    "options(repr.plot.width=10, repr.plot.height=6)\n",
    "\n",
    "freq_plot <- function(col_name) {\n",
    "    x_title <- pretty_col_name(col_name)\n",
    "    g <- ggplot(df, aes(df[[col_name]])) + geom_bar() + theme(axis.text.x = element_text(angle = -90)) \n",
    "    g + scale_x_discrete(x_title)\n",
    "} "
   ]
  },
  {
   "cell_type": "markdown",
   "metadata": {},
   "source": [
    "#### Metodyka"
   ]
  },
  {
   "cell_type": "code",
   "execution_count": 26,
   "metadata": {},
   "outputs": [
    {
     "data": {
      "text/html": [
       "<table>\n",
       "<thead><tr><th scope=col>Metodyka</th><th scope=col>n</th><th scope=col>Procent</th><th scope=col>Suma</th></tr></thead>\n",
       "<tbody>\n",
       "\t<tr><td>Iteracyjne i sekwencyjne</td><td>13                      </td><td>17.808219               </td><td> 17.80822               </td></tr>\n",
       "\t<tr><td>Iteracyjne              </td><td>51                      </td><td>69.863014               </td><td> 87.67123               </td></tr>\n",
       "\t<tr><td>Sekwencyjne             </td><td> 7                      </td><td> 9.589041               </td><td> 97.26027               </td></tr>\n",
       "\t<tr><td>Inne                    </td><td> 2                      </td><td> 2.739726               </td><td>100.00000               </td></tr>\n",
       "</tbody>\n",
       "</table>\n"
      ],
      "text/latex": [
       "\\begin{tabular}{r|llll}\n",
       " Metodyka & n & Procent & Suma\\\\\n",
       "\\hline\n",
       "\t Iteracyjne i sekwencyjne & 13                       & 17.808219                &  17.80822               \\\\\n",
       "\t Iteracyjne               & 51                       & 69.863014                &  87.67123               \\\\\n",
       "\t Sekwencyjne              &  7                       &  9.589041                &  97.26027               \\\\\n",
       "\t Inne                     &  2                       &  2.739726                & 100.00000               \\\\\n",
       "\\end{tabular}\n"
      ],
      "text/markdown": [
       "\n",
       "| Metodyka | n | Procent | Suma |\n",
       "|---|---|---|---|\n",
       "| Iteracyjne i sekwencyjne | 13                       | 17.808219                |  17.80822                |\n",
       "| Iteracyjne               | 51                       | 69.863014                |  87.67123                |\n",
       "| Sekwencyjne              |  7                       |  9.589041                |  97.26027                |\n",
       "| Inne                     |  2                       |  2.739726                | 100.00000                |\n",
       "\n"
      ],
      "text/plain": [
       "  Metodyka                 n  Procent   Suma     \n",
       "1 Iteracyjne i sekwencyjne 13 17.808219  17.80822\n",
       "2 Iteracyjne               51 69.863014  87.67123\n",
       "3 Sekwencyjne               7  9.589041  97.26027\n",
       "4 Inne                      2  2.739726 100.00000"
      ]
     },
     "metadata": {},
     "output_type": "display_data"
    },
    {
     "data": {
      "image/png": "[encoded data removed]",
      "text/plain": [
       "plot without title"
      ]
     },
     "metadata": {},
     "output_type": "display_data"
    }
   ],
   "source": [
    "freq_table(\"Metodyka_norm\")\n",
    "freq_plot(\"Metodyka_norm\")"
   ]
  },
  {
   "cell_type": "markdown",
   "metadata": {},
   "source": [
    "#### Długość projektu"
   ]
  },
  {
   "cell_type": "code",
   "execution_count": 27,
   "metadata": {},
   "outputs": [
    {
     "data": {
      "text/html": [
       "<table>\n",
       "<thead><tr><th scope=col>Dl projektu</th><th scope=col>n</th><th scope=col>Procent</th><th scope=col>Suma</th></tr></thead>\n",
       "<tbody>\n",
       "\t<tr><td>do pół roku  </td><td>13           </td><td>17.80822     </td><td> 17.80822    </td></tr>\n",
       "\t<tr><td>0,5 - 1 roku </td><td>18           </td><td>24.65753     </td><td> 42.46575    </td></tr>\n",
       "\t<tr><td>1-3 lata     </td><td>26           </td><td>35.61644     </td><td> 78.08219    </td></tr>\n",
       "\t<tr><td>powyżej 3 lat</td><td>16           </td><td>21.91781     </td><td>100.00000    </td></tr>\n",
       "</tbody>\n",
       "</table>\n"
      ],
      "text/latex": [
       "\\begin{tabular}{r|llll}\n",
       " Dl projektu & n & Procent & Suma\\\\\n",
       "\\hline\n",
       "\t do pół roku   & 13            & 17.80822      &  17.80822    \\\\\n",
       "\t 0,5 - 1 roku  & 18            & 24.65753      &  42.46575    \\\\\n",
       "\t 1-3 lata      & 26            & 35.61644      &  78.08219    \\\\\n",
       "\t powyżej 3 lat & 16            & 21.91781      & 100.00000    \\\\\n",
       "\\end{tabular}\n"
      ],
      "text/markdown": [
       "\n",
       "| Dl projektu | n | Procent | Suma |\n",
       "|---|---|---|---|\n",
       "| do pół roku   | 13            | 17.80822      |  17.80822     |\n",
       "| 0,5 - 1 roku  | 18            | 24.65753      |  42.46575     |\n",
       "| 1-3 lata      | 26            | 35.61644      |  78.08219     |\n",
       "| powyżej 3 lat | 16            | 21.91781      | 100.00000     |\n",
       "\n"
      ],
      "text/plain": [
       "  Dl projektu   n  Procent  Suma     \n",
       "1 do pół roku   13 17.80822  17.80822\n",
       "2 0,5 - 1 roku  18 24.65753  42.46575\n",
       "3 1-3 lata      26 35.61644  78.08219\n",
       "4 powyżej 3 lat 16 21.91781 100.00000"
      ]
     },
     "metadata": {},
     "output_type": "display_data"
    },
    {
     "data": {
      "image/png": "[encoded data removed]",
      "text/plain": [
       "plot without title"
      ]
     },
     "metadata": {},
     "output_type": "display_data"
    }
   ],
   "source": [
    "freq_table(\"Dl_projektu\")\n",
    "freq_plot(\"Dl_projektu\")"
   ]
  },
  {
   "cell_type": "markdown",
   "metadata": {},
   "source": [
    "#### Udział testerów"
   ]
  },
  {
   "cell_type": "code",
   "execution_count": 28,
   "metadata": {},
   "outputs": [
    {
     "data": {
      "text/html": [
       "<table>\n",
       "<thead><tr><th scope=col>Udzial testerow</th><th scope=col>n</th><th scope=col>Procent</th><th scope=col>Suma</th></tr></thead>\n",
       "<tbody>\n",
       "\t<tr><td>pełny                </td><td> 9                   </td><td>12.328767            </td><td> 12.32877            </td></tr>\n",
       "\t<tr><td>recenzja             </td><td>24                   </td><td>32.876712            </td><td> 45.20548            </td></tr>\n",
       "\t<tr><td>wgląd przed testami  </td><td>12                   </td><td>16.438356            </td><td> 61.64384            </td></tr>\n",
       "\t<tr><td>wgląd w czasie testów</td><td>14                   </td><td>19.178082            </td><td> 80.82192            </td></tr>\n",
       "\t<tr><td>brak dostępu         </td><td> 3                   </td><td> 4.109589            </td><td> 84.93151            </td></tr>\n",
       "\t<tr><td>brak specyfikacji    </td><td> 8                   </td><td>10.958904            </td><td> 95.89041            </td></tr>\n",
       "\t<tr><td>inne                 </td><td> 3                   </td><td> 4.109589            </td><td>100.00000            </td></tr>\n",
       "</tbody>\n",
       "</table>\n"
      ],
      "text/latex": [
       "\\begin{tabular}{r|llll}\n",
       " Udzial testerow & n & Procent & Suma\\\\\n",
       "\\hline\n",
       "\t pełny                 &  9                    & 12.328767             &  12.32877            \\\\\n",
       "\t recenzja              & 24                    & 32.876712             &  45.20548            \\\\\n",
       "\t wgląd przed testami   & 12                    & 16.438356             &  61.64384            \\\\\n",
       "\t wgląd w czasie testów & 14                    & 19.178082             &  80.82192            \\\\\n",
       "\t brak dostępu          &  3                    &  4.109589             &  84.93151            \\\\\n",
       "\t brak specyfikacji     &  8                    & 10.958904             &  95.89041            \\\\\n",
       "\t inne                  &  3                    &  4.109589             & 100.00000            \\\\\n",
       "\\end{tabular}\n"
      ],
      "text/markdown": [
       "\n",
       "| Udzial testerow | n | Procent | Suma |\n",
       "|---|---|---|---|\n",
       "| pełny                 |  9                    | 12.328767             |  12.32877             |\n",
       "| recenzja              | 24                    | 32.876712             |  45.20548             |\n",
       "| wgląd przed testami   | 12                    | 16.438356             |  61.64384             |\n",
       "| wgląd w czasie testów | 14                    | 19.178082             |  80.82192             |\n",
       "| brak dostępu          |  3                    |  4.109589             |  84.93151             |\n",
       "| brak specyfikacji     |  8                    | 10.958904             |  95.89041             |\n",
       "| inne                  |  3                    |  4.109589             | 100.00000             |\n",
       "\n"
      ],
      "text/plain": [
       "  Udzial testerow       n  Procent   Suma     \n",
       "1 pełny                  9 12.328767  12.32877\n",
       "2 recenzja              24 32.876712  45.20548\n",
       "3 wgląd przed testami   12 16.438356  61.64384\n",
       "4 wgląd w czasie testów 14 19.178082  80.82192\n",
       "5 brak dostępu           3  4.109589  84.93151\n",
       "6 brak specyfikacji      8 10.958904  95.89041\n",
       "7 inne                   3  4.109589 100.00000"
      ]
     },
     "metadata": {},
     "output_type": "display_data"
    },
    {
     "data": {
      "image/png": "[encoded data removed]",
      "text/plain": [
       "plot without title"
      ]
     },
     "metadata": {},
     "output_type": "display_data"
    }
   ],
   "source": [
    "freq_table(\"Udzial_testerow_norm\")\n",
    "freq_plot(\"Udzial_testerow_norm\")"
   ]
  },
  {
   "cell_type": "markdown",
   "metadata": {},
   "source": [
    "#### Spisywanie wymagań"
   ]
  },
  {
   "cell_type": "code",
   "execution_count": 29,
   "metadata": {},
   "outputs": [
    {
     "data": {
      "text/html": [
       "<table>\n",
       "<thead><tr><th scope=col>Spisanie wymagan</th><th scope=col>n</th><th scope=col>Procent</th><th scope=col>Suma</th></tr></thead>\n",
       "<tbody>\n",
       "\t<tr><td>na początku                   </td><td>10                            </td><td>13.698630                     </td><td> 13.69863                     </td></tr>\n",
       "\t<tr><td>w trakcie                     </td><td>21                            </td><td>28.767123                     </td><td> 42.46575                     </td></tr>\n",
       "\t<tr><td>na początku, ale się zmieniały</td><td>26                            </td><td>35.616438                     </td><td> 78.08219                     </td></tr>\n",
       "\t<tr><td>częściowo                     </td><td>10                            </td><td>13.698630                     </td><td> 91.78082                     </td></tr>\n",
       "\t<tr><td>niespisane                    </td><td> 3                            </td><td> 4.109589                     </td><td> 95.89041                     </td></tr>\n",
       "\t<tr><td>inne                          </td><td> 3                            </td><td> 4.109589                     </td><td>100.00000                     </td></tr>\n",
       "</tbody>\n",
       "</table>\n"
      ],
      "text/latex": [
       "\\begin{tabular}{r|llll}\n",
       " Spisanie wymagan & n & Procent & Suma\\\\\n",
       "\\hline\n",
       "\t na początku                    & 10                             & 13.698630                      &  13.69863                     \\\\\n",
       "\t w trakcie                      & 21                             & 28.767123                      &  42.46575                     \\\\\n",
       "\t na początku, ale się zmieniały & 26                             & 35.616438                      &  78.08219                     \\\\\n",
       "\t częściowo                      & 10                             & 13.698630                      &  91.78082                     \\\\\n",
       "\t niespisane                     &  3                             &  4.109589                      &  95.89041                     \\\\\n",
       "\t inne                           &  3                             &  4.109589                      & 100.00000                     \\\\\n",
       "\\end{tabular}\n"
      ],
      "text/markdown": [
       "\n",
       "| Spisanie wymagan | n | Procent | Suma |\n",
       "|---|---|---|---|\n",
       "| na początku                    | 10                             | 13.698630                      |  13.69863                      |\n",
       "| w trakcie                      | 21                             | 28.767123                      |  42.46575                      |\n",
       "| na początku, ale się zmieniały | 26                             | 35.616438                      |  78.08219                      |\n",
       "| częściowo                      | 10                             | 13.698630                      |  91.78082                      |\n",
       "| niespisane                     |  3                             |  4.109589                      |  95.89041                      |\n",
       "| inne                           |  3                             |  4.109589                      | 100.00000                      |\n",
       "\n"
      ],
      "text/plain": [
       "  Spisanie wymagan               n  Procent   Suma     \n",
       "1 na początku                    10 13.698630  13.69863\n",
       "2 w trakcie                      21 28.767123  42.46575\n",
       "3 na początku, ale się zmieniały 26 35.616438  78.08219\n",
       "4 częściowo                      10 13.698630  91.78082\n",
       "5 niespisane                      3  4.109589  95.89041\n",
       "6 inne                            3  4.109589 100.00000"
      ]
     },
     "metadata": {},
     "output_type": "display_data"
    },
    {
     "data": {
      "image/png": "[encoded data removed]",
      "text/plain": [
       "plot without title"
      ]
     },
     "metadata": {},
     "output_type": "display_data"
    }
   ],
   "source": [
    "freq_table(\"Spisanie_wymagan_norm\")\n",
    "freq_plot(\"Spisanie_wymagan_norm\")"
   ]
  },
  {
   "cell_type": "markdown",
   "metadata": {},
   "source": [
    "#### Osoba odpowiedzialna za utrzymanie aktualnej specyfikacji"
   ]
  },
  {
   "cell_type": "code",
   "execution_count": 30,
   "metadata": {},
   "outputs": [
    {
     "data": {
      "text/html": [
       "<table>\n",
       "<thead><tr><th scope=col>Os odpowiedzialna</th><th scope=col>n</th><th scope=col>Procent</th><th scope=col>Suma</th></tr></thead>\n",
       "<tbody>\n",
       "\t<tr><td>biznes              </td><td>30                  </td><td>41.095890           </td><td> 41.09589           </td></tr>\n",
       "\t<tr><td>programista         </td><td> 6                  </td><td> 8.219178           </td><td> 49.31507           </td></tr>\n",
       "\t<tr><td>tester              </td><td> 5                  </td><td> 6.849315           </td><td> 56.16438           </td></tr>\n",
       "\t<tr><td>zespół              </td><td> 7                  </td><td> 9.589041           </td><td> 65.75342           </td></tr>\n",
       "\t<tr><td>nikt                </td><td>15                  </td><td>20.547945           </td><td> 86.30137           </td></tr>\n",
       "\t<tr><td>biznes i programista</td><td> 2                  </td><td> 2.739726           </td><td> 89.04110           </td></tr>\n",
       "\t<tr><td>inne                </td><td> 8                  </td><td>10.958904           </td><td>100.00000           </td></tr>\n",
       "</tbody>\n",
       "</table>\n"
      ],
      "text/latex": [
       "\\begin{tabular}{r|llll}\n",
       " Os odpowiedzialna & n & Procent & Suma\\\\\n",
       "\\hline\n",
       "\t biznes               & 30                   & 41.095890            &  41.09589           \\\\\n",
       "\t programista          &  6                   &  8.219178            &  49.31507           \\\\\n",
       "\t tester               &  5                   &  6.849315            &  56.16438           \\\\\n",
       "\t zespół               &  7                   &  9.589041            &  65.75342           \\\\\n",
       "\t nikt                 & 15                   & 20.547945            &  86.30137           \\\\\n",
       "\t biznes i programista &  2                   &  2.739726            &  89.04110           \\\\\n",
       "\t inne                 &  8                   & 10.958904            & 100.00000           \\\\\n",
       "\\end{tabular}\n"
      ],
      "text/markdown": [
       "\n",
       "| Os odpowiedzialna | n | Procent | Suma |\n",
       "|---|---|---|---|\n",
       "| biznes               | 30                   | 41.095890            |  41.09589            |\n",
       "| programista          |  6                   |  8.219178            |  49.31507            |\n",
       "| tester               |  5                   |  6.849315            |  56.16438            |\n",
       "| zespół               |  7                   |  9.589041            |  65.75342            |\n",
       "| nikt                 | 15                   | 20.547945            |  86.30137            |\n",
       "| biznes i programista |  2                   |  2.739726            |  89.04110            |\n",
       "| inne                 |  8                   | 10.958904            | 100.00000            |\n",
       "\n"
      ],
      "text/plain": [
       "  Os odpowiedzialna    n  Procent   Suma     \n",
       "1 biznes               30 41.095890  41.09589\n",
       "2 programista           6  8.219178  49.31507\n",
       "3 tester                5  6.849315  56.16438\n",
       "4 zespół                7  9.589041  65.75342\n",
       "5 nikt                 15 20.547945  86.30137\n",
       "6 biznes i programista  2  2.739726  89.04110\n",
       "7 inne                  8 10.958904 100.00000"
      ]
     },
     "metadata": {},
     "output_type": "display_data"
    },
    {
     "data": {
      "image/png": "[encoded data removed]",
      "text/plain": [
       "plot without title"
      ]
     },
     "metadata": {},
     "output_type": "display_data"
    }
   ],
   "source": [
    "freq_table(\"Os_odpowiedzialna_norm\")\n",
    "freq_plot(\"Os_odpowiedzialna_norm\")"
   ]
  },
  {
   "cell_type": "markdown",
   "metadata": {},
   "source": [
    "#### Długość specyfikacji"
   ]
  },
  {
   "cell_type": "code",
   "execution_count": 31,
   "metadata": {},
   "outputs": [
    {
     "data": {
      "text/html": [
       "<table>\n",
       "<thead><tr><th scope=col>L stron</th><th scope=col>n</th><th scope=col>Procent</th><th scope=col>Suma</th></tr></thead>\n",
       "<tbody>\n",
       "\t<tr><td>do pół strony           </td><td> 5                      </td><td> 6.849315               </td><td>  6.849315              </td></tr>\n",
       "\t<tr><td>do 1 strony             </td><td> 7                      </td><td> 9.589041               </td><td> 16.438356              </td></tr>\n",
       "\t<tr><td>do 10 stron             </td><td> 9                      </td><td>12.328767               </td><td> 28.767123              </td></tr>\n",
       "\t<tr><td>powyżej 10 stron        </td><td>34                      </td><td>46.575342               </td><td> 75.342466              </td></tr>\n",
       "\t<tr><td>trudno ocenić (np. jira)</td><td> 8                      </td><td>10.958904               </td><td> 86.301370              </td></tr>\n",
       "\t<tr><td>brak dostępu            </td><td> 1                      </td><td> 1.369863               </td><td> 87.671233              </td></tr>\n",
       "\t<tr><td>brak specyfikacji       </td><td> 7                      </td><td> 9.589041               </td><td> 97.260274              </td></tr>\n",
       "\t<tr><td>inne                    </td><td> 2                      </td><td> 2.739726               </td><td>100.000000              </td></tr>\n",
       "</tbody>\n",
       "</table>\n"
      ],
      "text/latex": [
       "\\begin{tabular}{r|llll}\n",
       " L stron & n & Procent & Suma\\\\\n",
       "\\hline\n",
       "\t do pół strony            &  5                       &  6.849315                &   6.849315              \\\\\n",
       "\t do 1 strony              &  7                       &  9.589041                &  16.438356              \\\\\n",
       "\t do 10 stron              &  9                       & 12.328767                &  28.767123              \\\\\n",
       "\t powyżej 10 stron         & 34                       & 46.575342                &  75.342466              \\\\\n",
       "\t trudno ocenić (np. jira) &  8                       & 10.958904                &  86.301370              \\\\\n",
       "\t brak dostępu             &  1                       &  1.369863                &  87.671233              \\\\\n",
       "\t brak specyfikacji        &  7                       &  9.589041                &  97.260274              \\\\\n",
       "\t inne                     &  2                       &  2.739726                & 100.000000              \\\\\n",
       "\\end{tabular}\n"
      ],
      "text/markdown": [
       "\n",
       "| L stron | n | Procent | Suma |\n",
       "|---|---|---|---|\n",
       "| do pół strony            |  5                       |  6.849315                |   6.849315               |\n",
       "| do 1 strony              |  7                       |  9.589041                |  16.438356               |\n",
       "| do 10 stron              |  9                       | 12.328767                |  28.767123               |\n",
       "| powyżej 10 stron         | 34                       | 46.575342                |  75.342466               |\n",
       "| trudno ocenić (np. jira) |  8                       | 10.958904                |  86.301370               |\n",
       "| brak dostępu             |  1                       |  1.369863                |  87.671233               |\n",
       "| brak specyfikacji        |  7                       |  9.589041                |  97.260274               |\n",
       "| inne                     |  2                       |  2.739726                | 100.000000               |\n",
       "\n"
      ],
      "text/plain": [
       "  L stron                  n  Procent   Suma      \n",
       "1 do pół strony             5  6.849315   6.849315\n",
       "2 do 1 strony               7  9.589041  16.438356\n",
       "3 do 10 stron               9 12.328767  28.767123\n",
       "4 powyżej 10 stron         34 46.575342  75.342466\n",
       "5 trudno ocenić (np. jira)  8 10.958904  86.301370\n",
       "6 brak dostępu              1  1.369863  87.671233\n",
       "7 brak specyfikacji         7  9.589041  97.260274\n",
       "8 inne                      2  2.739726 100.000000"
      ]
     },
     "metadata": {},
     "output_type": "display_data"
    },
    {
     "data": {
      "image/png": "[encoded data removed]",
      "text/plain": [
       "plot without title"
      ]
     },
     "metadata": {},
     "output_type": "display_data"
    }
   ],
   "source": [
    "freq_table(\"L_stron_norm\")\n",
    "freq_plot(\"L_stron_norm\")"
   ]
  },
  {
   "cell_type": "markdown",
   "metadata": {},
   "source": [
    "#### Ważność specyfikacji"
   ]
  },
  {
   "cell_type": "code",
   "execution_count": 32,
   "metadata": {},
   "outputs": [
    {
     "data": {
      "text/html": [
       "<table>\n",
       "<thead><tr><th scope=col>Waznosc spec</th><th scope=col>n</th><th scope=col>Procent</th><th scope=col>Suma</th></tr></thead>\n",
       "<tbody>\n",
       "\t<tr><td>niezbędna                      </td><td>33                             </td><td>45.205479                      </td><td> 45.20548                      </td></tr>\n",
       "\t<tr><td>potrzebna, ale nieaktualna     </td><td>20                             </td><td>27.397260                      </td><td> 72.60274                      </td></tr>\n",
       "\t<tr><td>problematyczna, bo złej jakości</td><td> 7                             </td><td> 9.589041                      </td><td> 82.19178                      </td></tr>\n",
       "\t<tr><td>brak specyfikacji              </td><td> 7                             </td><td> 9.589041                      </td><td> 91.78082                      </td></tr>\n",
       "\t<tr><td>inne                           </td><td> 6                             </td><td> 8.219178                      </td><td>100.00000                      </td></tr>\n",
       "</tbody>\n",
       "</table>\n"
      ],
      "text/latex": [
       "\\begin{tabular}{r|llll}\n",
       " Waznosc spec & n & Procent & Suma\\\\\n",
       "\\hline\n",
       "\t niezbędna                       & 33                              & 45.205479                       &  45.20548                      \\\\\n",
       "\t potrzebna, ale nieaktualna      & 20                              & 27.397260                       &  72.60274                      \\\\\n",
       "\t problematyczna, bo złej jakości &  7                              &  9.589041                       &  82.19178                      \\\\\n",
       "\t brak specyfikacji               &  7                              &  9.589041                       &  91.78082                      \\\\\n",
       "\t inne                            &  6                              &  8.219178                       & 100.00000                      \\\\\n",
       "\\end{tabular}\n"
      ],
      "text/markdown": [
       "\n",
       "| Waznosc spec | n | Procent | Suma |\n",
       "|---|---|---|---|\n",
       "| niezbędna                       | 33                              | 45.205479                       |  45.20548                       |\n",
       "| potrzebna, ale nieaktualna      | 20                              | 27.397260                       |  72.60274                       |\n",
       "| problematyczna, bo złej jakości |  7                              |  9.589041                       |  82.19178                       |\n",
       "| brak specyfikacji               |  7                              |  9.589041                       |  91.78082                       |\n",
       "| inne                            |  6                              |  8.219178                       | 100.00000                       |\n",
       "\n"
      ],
      "text/plain": [
       "  Waznosc spec                    n  Procent   Suma     \n",
       "1 niezbędna                       33 45.205479  45.20548\n",
       "2 potrzebna, ale nieaktualna      20 27.397260  72.60274\n",
       "3 problematyczna, bo złej jakości  7  9.589041  82.19178\n",
       "4 brak specyfikacji                7  9.589041  91.78082\n",
       "5 inne                             6  8.219178 100.00000"
      ]
     },
     "metadata": {},
     "output_type": "display_data"
    },
    {
     "data": {
      "image/png": "[encoded data removed]",
      "text/plain": [
       "plot without title"
      ]
     },
     "metadata": {},
     "output_type": "display_data"
    }
   ],
   "source": [
    "freq_table(\"Waznosc_spec_norm\")\n",
    "freq_plot(\"Waznosc_spec_norm\")"
   ]
  },
  {
   "cell_type": "code",
   "execution_count": 33,
   "metadata": {},
   "outputs": [],
   "source": [
    "# Ważny kod, ale na marginesie\n",
    "\n",
    "\n",
    "# library(rbenchmark)\n",
    "\n",
    "# benchmark(\n",
    "#          \"select\"={\n",
    "#     l <- filter(select(df, C_aktualnosc:C_zrozumialosc), df$C_koherencja, df$C_testowalnosc, df$C_zrozumialosc)         \n",
    "#     lapply(l, sum)\n",
    "#          },\n",
    "#     \"df\"={\n",
    "#     nrow(filter(df, df$C_koherencja, df$C_testowalnosc, df$C_zrozumialosc))\n",
    "#     },\n",
    "#     replications = 1000,\n",
    "#     columns = c(\"test\", \"replications\", \"elapsed\", \"relative\", \"user.self\", \"sys.self\")     \n",
    "#          )\n"
   ]
  },
  {
   "cell_type": "code",
   "execution_count": 34,
   "metadata": {},
   "outputs": [],
   "source": [
    "# head(df)"
   ]
  },
  {
   "cell_type": "markdown",
   "metadata": {},
   "source": [
    "## Zmienne i relacje między zmiennymi"
   ]
  },
  {
   "cell_type": "markdown",
   "metadata": {},
   "source": [
    "#### Pomocnicze funkcje"
   ]
  },
  {
   "cell_type": "code",
   "execution_count": 67,
   "metadata": {},
   "outputs": [],
   "source": [
    "comb_freq_table <- function(col1, col2) {\n",
    "    table <- summarise(group_by(df, df[[col1]], df[[col2]]), Liczba_wystapien=n())\n",
    "    colnames(table)[colnames(table) == \"df[[col1]]\"] <- pretty_col_name(col1)\n",
    "    colnames(table)[colnames(table) == \"df[[col2]]\"] <- pretty_col_name(col2)\n",
    "    return(table)\n",
    "}\n",
    "\n",
    "comb_freq_plot <- function(subdf, col1, col2){    \n",
    "    pretty_col2 <- subdf[[pretty_col_name(col2)]]\n",
    "    pretty_col1 <- subdf[[pretty_col_name(col1)]]\n",
    "    f <- ggplot(data=subdf, aes(x=pretty_col2, y=Liczba_wystapien, group=pretty_col1, color=pretty_col1))\n",
    "    g <- f + geom_point() + geom_line() \n",
    "    g + scale_x_discrete(pretty_col_name(col2)) + scale_color_discrete(pretty_col_name(col1))\n",
    "}"
   ]
  },
  {
   "cell_type": "markdown",
   "metadata": {},
   "source": [
    "## Metodyka a czas trwania projektu"
   ]
  },
  {
   "cell_type": "code",
   "execution_count": 68,
   "metadata": {
    "scrolled": true
   },
   "outputs": [
    {
     "data": {
      "text/html": [
       "<table>\n",
       "<thead><tr><th scope=col>Metodyka</th><th scope=col>Dl projektu</th><th scope=col>Liczba_wystapien</th></tr></thead>\n",
       "<tbody>\n",
       "\t<tr><td>Iteracyjne i sekwencyjne</td><td>do pół roku             </td><td> 2                      </td></tr>\n",
       "\t<tr><td>Iteracyjne i sekwencyjne</td><td>0,5 - 1 roku            </td><td> 2                      </td></tr>\n",
       "\t<tr><td>Iteracyjne i sekwencyjne</td><td>1-3 lata                </td><td> 5                      </td></tr>\n",
       "\t<tr><td>Iteracyjne i sekwencyjne</td><td>powyżej 3 lat           </td><td> 4                      </td></tr>\n",
       "\t<tr><td>Iteracyjne              </td><td>do pół roku             </td><td> 9                      </td></tr>\n",
       "\t<tr><td>Iteracyjne              </td><td>0,5 - 1 roku            </td><td>13                      </td></tr>\n",
       "\t<tr><td>Iteracyjne              </td><td>1-3 lata                </td><td>18                      </td></tr>\n",
       "\t<tr><td>Iteracyjne              </td><td>powyżej 3 lat           </td><td>11                      </td></tr>\n",
       "\t<tr><td>Sekwencyjne             </td><td>do pół roku             </td><td> 1                      </td></tr>\n",
       "\t<tr><td>Sekwencyjne             </td><td>0,5 - 1 roku            </td><td> 3                      </td></tr>\n",
       "\t<tr><td>Sekwencyjne             </td><td>1-3 lata                </td><td> 2                      </td></tr>\n",
       "\t<tr><td>Sekwencyjne             </td><td>powyżej 3 lat           </td><td> 1                      </td></tr>\n",
       "\t<tr><td>Inne                    </td><td>do pół roku             </td><td> 1                      </td></tr>\n",
       "\t<tr><td>Inne                    </td><td>1-3 lata                </td><td> 1                      </td></tr>\n",
       "</tbody>\n",
       "</table>\n"
      ],
      "text/latex": [
       "\\begin{tabular}{r|lll}\n",
       " Metodyka & Dl projektu & Liczba\\_wystapien\\\\\n",
       "\\hline\n",
       "\t Iteracyjne i sekwencyjne & do pół roku              &  2                      \\\\\n",
       "\t Iteracyjne i sekwencyjne & 0,5 - 1 roku             &  2                      \\\\\n",
       "\t Iteracyjne i sekwencyjne & 1-3 lata                 &  5                      \\\\\n",
       "\t Iteracyjne i sekwencyjne & powyżej 3 lat            &  4                      \\\\\n",
       "\t Iteracyjne               & do pół roku              &  9                      \\\\\n",
       "\t Iteracyjne               & 0,5 - 1 roku             & 13                      \\\\\n",
       "\t Iteracyjne               & 1-3 lata                 & 18                      \\\\\n",
       "\t Iteracyjne               & powyżej 3 lat            & 11                      \\\\\n",
       "\t Sekwencyjne              & do pół roku              &  1                      \\\\\n",
       "\t Sekwencyjne              & 0,5 - 1 roku             &  3                      \\\\\n",
       "\t Sekwencyjne              & 1-3 lata                 &  2                      \\\\\n",
       "\t Sekwencyjne              & powyżej 3 lat            &  1                      \\\\\n",
       "\t Inne                     & do pół roku              &  1                      \\\\\n",
       "\t Inne                     & 1-3 lata                 &  1                      \\\\\n",
       "\\end{tabular}\n"
      ],
      "text/markdown": [
       "\n",
       "| Metodyka | Dl projektu | Liczba_wystapien |\n",
       "|---|---|---|\n",
       "| Iteracyjne i sekwencyjne | do pół roku              |  2                       |\n",
       "| Iteracyjne i sekwencyjne | 0,5 - 1 roku             |  2                       |\n",
       "| Iteracyjne i sekwencyjne | 1-3 lata                 |  5                       |\n",
       "| Iteracyjne i sekwencyjne | powyżej 3 lat            |  4                       |\n",
       "| Iteracyjne               | do pół roku              |  9                       |\n",
       "| Iteracyjne               | 0,5 - 1 roku             | 13                       |\n",
       "| Iteracyjne               | 1-3 lata                 | 18                       |\n",
       "| Iteracyjne               | powyżej 3 lat            | 11                       |\n",
       "| Sekwencyjne              | do pół roku              |  1                       |\n",
       "| Sekwencyjne              | 0,5 - 1 roku             |  3                       |\n",
       "| Sekwencyjne              | 1-3 lata                 |  2                       |\n",
       "| Sekwencyjne              | powyżej 3 lat            |  1                       |\n",
       "| Inne                     | do pół roku              |  1                       |\n",
       "| Inne                     | 1-3 lata                 |  1                       |\n",
       "\n"
      ],
      "text/plain": [
       "   Metodyka                 Dl projektu   Liczba_wystapien\n",
       "1  Iteracyjne i sekwencyjne do pół roku    2              \n",
       "2  Iteracyjne i sekwencyjne 0,5 - 1 roku   2              \n",
       "3  Iteracyjne i sekwencyjne 1-3 lata       5              \n",
       "4  Iteracyjne i sekwencyjne powyżej 3 lat  4              \n",
       "5  Iteracyjne               do pół roku    9              \n",
       "6  Iteracyjne               0,5 - 1 roku  13              \n",
       "7  Iteracyjne               1-3 lata      18              \n",
       "8  Iteracyjne               powyżej 3 lat 11              \n",
       "9  Sekwencyjne              do pół roku    1              \n",
       "10 Sekwencyjne              0,5 - 1 roku   3              \n",
       "11 Sekwencyjne              1-3 lata       2              \n",
       "12 Sekwencyjne              powyżej 3 lat  1              \n",
       "13 Inne                     do pół roku    1              \n",
       "14 Inne                     1-3 lata       1              "
      ]
     },
     "metadata": {},
     "output_type": "display_data"
    },
    {
     "data": {
      "image/png": "[encoded data removed]",
      "text/plain": [
       "plot without title"
      ]
     },
     "metadata": {},
     "output_type": "display_data"
    }
   ],
   "source": [
    "method_length_comb_table <- comb_freq_table(\"Metodyka_norm\", \"Dl_projektu\")\n",
    "method_length_comb_table\n",
    "comb_freq_plot(method_length_comb_table, \"Metodyka_norm\", \"Dl_projektu\")"
   ]
  },
  {
   "cell_type": "markdown",
   "metadata": {},
   "source": [
    "Respondenci najczęściej uczestniczyli w projektach trwających 1-3 lat, a w krótkich projektach (trwających do pół roku) uczestniczyli najrzadziej. Jest zbyt mało danych, by stwierdzić, czy rodzaj stosowanej metodyki ma wpływ na tę zależność. "
   ]
  },
  {
   "cell_type": "markdown",
   "metadata": {},
   "source": [
    "### Metodyka a udział testerów w projekcie"
   ]
  },
  {
   "cell_type": "code",
   "execution_count": 36,
   "metadata": {
    "scrolled": true
   },
   "outputs": [],
   "source": [
    "# colnames(df)\n",
    "# unique(df$Udzial_testerow)\n",
    "\n",
    "# df <- df %>%\n",
    "#     mutate(Udzial_testerow_num = case_when(\n",
    "#         Udzial_testerow == \"pełny\"  ~ 1,\n",
    "#         Udzial_testerow == \"recenzja\" ~ 2,\n",
    "#         Udzial_testerow == \"wgląd przed testami\" ~ 3,\n",
    "#         Udzial_testerow == \"wgląd w czasie testów\" ~ 4,\n",
    "#         Udzial_testerow == \"brak dostępu\" ~ 5,\n",
    "#         Udzial_testerow == \"brak specyfikacji\" ~ 6,\n",
    "#         Udzial_testerow == paste(\"Coś między dwa a trzy - nie tyle do recenzji, \",\n",
    "#         \"ile był dostęp dość szybko i uwagi, które się nasunęły w czasie projektowania strategii \",\n",
    "#         \"i planów były brane pod uwagę.\", sep=\"\") ~ 2,\n",
    "#         Udzial_testerow == \"gdy się zainteresowali, to mogli na cośwplynąć\" ~ 2,\n",
    "#         Udzial_testerow == paste(\"specyfikacja częściowo dostępna na początku, zmienna \",\n",
    "#                                  \"i głównie rozszerzana w trakcie trwania projektu\", sep=\"\") ~ 3,\n",
    "#         Udzial_testerow == paste(\"wgląd od początku, ale bez wpływu na zmiany; \",\n",
    "#                                  \"natomiast klient zmiany wprowadzał cały czas, także już po oddaniu projektu!! \", sep=\"\") ~ 3,\n",
    "#         Udzial_testerow == paste(\"nie brali udziału w fazie projektowania wymagań, \",  \n",
    "#         \"ale mieli pełny dostęp do specyfikacji w czasie testów\", sep=\"\") ~ 4,\n",
    "#         TRUE ~ 7\n",
    "#     ))\n",
    "\n",
    "\n",
    "\n",
    "# df %>% select(Udzial_testerow, Udzial_testerow_norm) %>% filter(Udzial_testerow_norm==\"inne\")\n",
    "\n",
    "# df %>% \n",
    "#     count(Udzial_testerow_num) %>%\n",
    "# #     arrange(desc(-Udzial_testerow_num)) %>% #to w ogóle nie jest potrzebne!\n",
    "#     mutate(Procent=n/nrow(df)*100) %>%\n",
    "#     mutate(Suma=cumsum(Procent))\n",
    "\n",
    "# by_x <- group_by(df, Udzial_testerow, Udzial_testerow_num)\n",
    "# arrange(summarise(by_x, n = n()), desc(-Udzial_testerow_num))"
   ]
  },
  {
   "cell_type": "markdown",
   "metadata": {},
   "source": [
    "Prawie połowa (około 45%) ankietowanych ma możliwość wnoszenia uwag do specyfikacji jeszcze przed rozpoczęciem prac deweloperskich. Około 1/3 ankietowanych może to robić na etapie recenzji gotowej specyfikacji, a tylko trochę ponad 12% ankietowanych ma możliwość aktywnie uczestniczyć w procesie tworzenia specyfikacji. Ogółem około 60% respondentów miało dostęp do specyfikacji przed rozpoczęciem testów, około 20%  w czasie trwającego procesu, a 15% ankietowanych testerów w ogóle nie miało dostępu do specyfikacji!"
   ]
  },
  {
   "cell_type": "code",
   "execution_count": 37,
   "metadata": {},
   "outputs": [
    {
     "ename": "ERROR",
     "evalue": "Error: Column `Rodzaj_metodyki` is unknown\n",
     "output_type": "error",
     "traceback": [
      "Error: Column `Rodzaj_metodyki` is unknown\nTraceback:\n",
      "1. summarise(group_by(df, Rodzaj_metodyki, Udzial_testerow_num), \n .     Liczba_wystapien = n())",
      "2. group_by(df, Rodzaj_metodyki, Udzial_testerow_num)",
      "3. group_by.data.frame(df, Rodzaj_metodyki, Udzial_testerow_num)",
      "4. grouped_df(groups$data, groups$group_names, .drop)",
      "5. grouped_df_impl(data, unname(vars), drop)"
     ]
    }
   ],
   "source": [
    "subtable <- summarise(group_by(df, Rodzaj_metodyki, Udzial_testerow_num), Liczba_wystapien=n())\n",
    "\n",
    "f <- ggplot(data=subtable, aes(x=Udzial_testerow_num, y=Liczba_wystapien, color=Rodzaj_metodyki))\n",
    "g <- f + geom_point() + geom_line() \n",
    "class(df$Udzial_testerow)\n",
    "# g + scale_x_continuous(\"Czas trwania projektu\", labels=c(\"do pół roku\", \"0,5 - 1 roku\", \"1-3 lata\", \"powyżej 3 lat\")) \n",
    "# TODO  3 - label dla osi y i legendy\n",
    "g"
   ]
  },
  {
   "cell_type": "markdown",
   "metadata": {},
   "source": [
    "### Czas trwania projektu a istotne cechy \n",
    "ale to nie do konca to, bo istotne cechy sa podsumowaniem pracy testera, a czas trwania dottyczy danego projektu"
   ]
  },
  {
   "cell_type": "code",
   "execution_count": null,
   "metadata": {},
   "outputs": [],
   "source": [
    "by_long <- group_by(df, Dl_projektu)\n",
    "a <- summarise(by_long, n = n(), Liczba_c_zrozumialosc = sum(C_zrozumialosc))\n",
    "a"
   ]
  },
  {
   "cell_type": "code",
   "execution_count": null,
   "metadata": {},
   "outputs": [],
   "source": [
    "nrow(df)/2"
   ]
  },
  {
   "cell_type": "code",
   "execution_count": null,
   "metadata": {},
   "outputs": [],
   "source": []
  },
  {
   "cell_type": "markdown",
   "metadata": {},
   "source": []
  },
  {
   "cell_type": "markdown",
   "metadata": {},
   "source": [
    "## Uwagi do ankiety i pomysły na przyszłość\n",
    "\n",
    "1.  Słabym pomysłem było proszenie ankietowanych o odpowiedzi w oparciu o 3 ostatnie projekty (wiele informacji jest pomieszanych i nie można ich przeanalizować).\n",
    "2. Warto by było sprawdzić, które cechy specyfikacji najczęściej są spotykane w rzeczywistych projektach a które najrzadziej (np. przez stopniowanie). W ten sposób można by było porównać oczekiwania z realiami. :) "
   ]
  },
  {
   "cell_type": "code",
   "execution_count": null,
   "metadata": {},
   "outputs": [],
   "source": []
  },
  {
   "cell_type": "code",
   "execution_count": null,
   "metadata": {},
   "outputs": [],
   "source": []
  },
  {
   "cell_type": "code",
   "execution_count": null,
   "metadata": {},
   "outputs": [],
   "source": []
  },
  {
   "cell_type": "code",
   "execution_count": null,
   "metadata": {},
   "outputs": [],
   "source": []
  },
  {
   "cell_type": "code",
   "execution_count": null,
   "metadata": {},
   "outputs": [],
   "source": []
  },
  {
   "cell_type": "code",
   "execution_count": null,
   "metadata": {},
   "outputs": [],
   "source": []
  },
  {
   "cell_type": "code",
   "execution_count": null,
   "metadata": {},
   "outputs": [],
   "source": []
  },
  {
   "cell_type": "code",
   "execution_count": null,
   "metadata": {},
   "outputs": [],
   "source": []
  },
  {
   "cell_type": "code",
   "execution_count": null,
   "metadata": {},
   "outputs": [],
   "source": []
  },
  {
   "cell_type": "code",
   "execution_count": null,
   "metadata": {},
   "outputs": [],
   "source": []
  }
 ],
 "metadata": {
  "kernelspec": {
   "display_name": "R",
   "language": "R",
   "name": "ir"
  },
  "language_info": {
   "codemirror_mode": "r",
   "file_extension": ".r",
   "mimetype": "text/x-r-source",
   "name": "R",
   "pygments_lexer": "r",
   "version": "3.4.4"
  }
 },
 "nbformat": 4,
 "nbformat_minor": 2
}
